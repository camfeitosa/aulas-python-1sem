{
 "cells": [
  {
   "cell_type": "code",
   "execution_count": 2,
   "metadata": {},
   "outputs": [
    {
     "name": "stdout",
     "output_type": "stream",
     "text": [
      "0\n",
      "1\n",
      "2\n",
      "3\n",
      "4\n",
      "5\n"
     ]
    }
   ],
   "source": [
    "#while \n",
    "\n",
    "i = 0\n",
    "\n",
    "while i < 10:\n",
    "    print(i)\n",
    "    i+=1\n",
    "    if i == 6:\n",
    "        break"
   ]
  },
  {
   "cell_type": "code",
   "execution_count": 6,
   "metadata": {},
   "outputs": [
    {
     "name": "stdout",
     "output_type": "stream",
     "text": [
      "10\n",
      "9\n",
      "8\n",
      "7\n",
      "6\n",
      "5\n",
      "4\n",
      "3\n",
      "2\n",
      "1\n"
     ]
    }
   ],
   "source": [
    "i = 10\n",
    "\n",
    "while i < 12:\n",
    "    print(i)\n",
    "    i -= 1\n",
    "    \n",
    "    if i == 0:\n",
    "        break\n",
    "\n",
    "    \n"
   ]
  },
  {
   "cell_type": "code",
   "execution_count": 8,
   "metadata": {},
   "outputs": [
    {
     "name": "stdout",
     "output_type": "stream",
     "text": [
      "2\n",
      "4\n",
      "6\n",
      "8\n",
      "10\n"
     ]
    }
   ],
   "source": [
    "numero = 0\n",
    "\n",
    "while numero < 10:\n",
    "    numero += 1\n",
    "    if numero %2 != 0:\n",
    "        continue\n",
    "    print(numero)"
   ]
  },
  {
   "cell_type": "code",
   "execution_count": 10,
   "metadata": {},
   "outputs": [
    {
     "name": "stdout",
     "output_type": "stream",
     "text": [
      "10\n",
      "9\n",
      "8\n",
      "7\n",
      "6\n",
      "5\n",
      "4\n",
      "3\n",
      "2\n",
      "1\n"
     ]
    }
   ],
   "source": [
    "contador = 10\n",
    "\n",
    "while contador > 0:\n",
    "    print(contador)\n",
    "    contador -= 1\n",
    "    if contador != 5:\n",
    "        continue"
   ]
  },
  {
   "cell_type": "code",
   "execution_count": 14,
   "metadata": {},
   "outputs": [
    {
     "name": "stdout",
     "output_type": "stream",
     "text": [
      "A letra E foi encontrada\n"
     ]
    }
   ],
   "source": [
    "palavra = input(\"Digite uma palavra\")\n",
    "\n",
    "indice = 0\n",
    "encontrou = False\n",
    "\n",
    "while indice < len(palavra):\n",
    "    if palavra[indice] == 'e':\n",
    "        encontrou = True\n",
    "        break\n",
    "    indice += 1\n",
    "\n",
    "if encontrou:\n",
    "    print(\"A letra E foi encontrada\")\n",
    "else:\n",
    "    print('Não encontrada')"
   ]
  },
  {
   "cell_type": "code",
   "execution_count": 17,
   "metadata": {},
   "outputs": [
    {
     "name": "stdout",
     "output_type": "stream",
     "text": [
      "11\n"
     ]
    }
   ],
   "source": [
    "#comprimento da palavra\n",
    "\n",
    "palavra = str(input(\"Digite palavra\"))\n",
    "\n",
    "print(len(palavra))"
   ]
  },
  {
   "cell_type": "code",
   "execution_count": 18,
   "metadata": {},
   "outputs": [
    {
     "name": "stdout",
     "output_type": "stream",
     "text": [
      "a\n"
     ]
    }
   ],
   "source": [
    "#Última letra do nome\n",
    "\n",
    "nome = str(input(\"Digite seu nome: \"))\n",
    "ult_letra = nome[len(nome) - 1]\n",
    "print(ult_letra)\n"
   ]
  },
  {
   "cell_type": "code",
   "execution_count": 22,
   "metadata": {},
   "outputs": [
    {
     "name": "stdout",
     "output_type": "stream",
     "text": [
      "A média será 12.2\n"
     ]
    }
   ],
   "source": [
    "# Média com while\n",
    "\n",
    "lista = [10, 5, 20, 9, 17]\n",
    "\n",
    "# len(notas)\n",
    "\n",
    "soma = 0\n",
    "indice = 0 \n",
    "\n",
    "while indice < len(lista):\n",
    "    soma += lista[indice]\n",
    "    indice += 1\n",
    "\n",
    "media = soma / len(lista)\n",
    "print(\"A média será\", media)\n",
    "\n"
   ]
  },
  {
   "cell_type": "code",
   "execution_count": 23,
   "metadata": {},
   "outputs": [
    {
     "data": {
      "text/plain": [
       "12.2"
      ]
     },
     "execution_count": 23,
     "metadata": {},
     "output_type": "execute_result"
    }
   ],
   "source": [
    "\n",
    "media = sum(lista) / len(lista)\n",
    "media"
   ]
  },
  {
   "cell_type": "code",
   "execution_count": null,
   "metadata": {},
   "outputs": [],
   "source": [
    "#\n",
    "\n",
    "fahrenheit = float(input(\"Insira temperatura em F\"))\n",
    "celsius = 0\n",
    "\n",
    "while fahrenheit != 0:\n",
    "    celsius = ((5/9) * (fahrenheit - 32))\n",
    "    print(f\"{fahrenheit}ºF equivale a {celsius}ºC\")\n",
    "    fahrenheit = float(input(\"Digite 0\"))"
   ]
  },
  {
   "cell_type": "code",
   "execution_count": 37,
   "metadata": {},
   "outputs": [
    {
     "name": "stdout",
     "output_type": "stream",
     "text": [
      "0\n",
      "1\n",
      "2\n",
      "3\n",
      "4\n",
      "Número 1\n",
      "Número 2\n",
      "Número 3\n",
      "Número 4\n",
      "Número 5\n",
      "Número 6\n",
      "Número 7\n",
      "Número 8\n",
      "Número 9\n",
      "Número 10\n",
      "Par 0\n",
      "Par 2\n",
      "Par 4\n",
      "Par 6\n",
      "Par 8\n",
      "Par 10\n",
      "Ímpar 1\n",
      "Ímpar 3\n",
      "Ímpar 5\n",
      "Ímpar 7\n",
      "Ímpar 9\n",
      "Ímpar 11\n"
     ]
    }
   ],
   "source": [
    "# estrutura de repetoção For\n",
    "# range gera uma sequencia de 0 a 4\n",
    "\n",
    "for i in range(5):\n",
    "    print(i)\n",
    "\n",
    "#Imprime de 1 a 10 \n",
    "\n",
    "for i in range(1, 11):\n",
    "    print(\"Número\", i)\n",
    "\n",
    "\n",
    "#Imprime de 0 a 10 com um intervalo de 2 - números pares\n",
    "\n",
    "for i in range(0, 11, 2):\n",
    "    print(\"Par\",i)\n",
    "\n",
    "#Imprime de 1 a 11 com um intervalo de 2 - números ímpares\n",
    "\n",
    "for i in range(1, 12, 2):\n",
    "    print(\"Ímpar\",i)\n",
    "\n",
    "\n",
    "    "
   ]
  },
  {
   "cell_type": "code",
   "execution_count": 38,
   "metadata": {},
   "outputs": [
    {
     "name": "stdout",
     "output_type": "stream",
     "text": [
      "A soma dos primeiros 10 números inteiros é: 55\n"
     ]
    }
   ],
   "source": [
    "# soma = soma + i. Isso significa que, a cada iteração, o valor atual de i é adicionado ao valor atual de soma\n",
    "\n",
    "soma = 0\n",
    "\n",
    "for i in range(1, 11):\n",
    "    soma += i\n",
    "\n",
    "print(\"A soma dos primeiros 10 números inteiros é:\", soma)\n"
   ]
  },
  {
   "cell_type": "code",
   "execution_count": 28,
   "metadata": {},
   "outputs": [
    {
     "name": "stdout",
     "output_type": "stream",
     "text": [
      "o\n",
      "i\n"
     ]
    }
   ],
   "source": [
    "entrada = input(\"Digite uma palavra\")\n",
    "\n",
    "for i in entrada:\n",
    "    print(i)"
   ]
  },
  {
   "cell_type": "code",
   "execution_count": 8,
   "metadata": {},
   "outputs": [
    {
     "name": "stdout",
     "output_type": "stream",
     "text": [
      "1\n",
      "2\n",
      "4\n",
      "5\n",
      "6\n"
     ]
    }
   ],
   "source": [
    "# Ex 10\n",
    "\n",
    "\n",
    "for i in range (1, 7):\n",
    "    if i == 3: \n",
    "        continue\n",
    "    print(i)"
   ]
  },
  {
   "cell_type": "code",
   "execution_count": 11,
   "metadata": {},
   "outputs": [
    {
     "name": "stdout",
     "output_type": "stream",
     "text": [
      "1**2 = 1\n",
      "2**2 = 4\n",
      "3**2 = 9\n",
      "4**2 = 16\n",
      "5**2 = 25\n",
      "6**2 = 36\n"
     ]
    }
   ],
   "source": [
    "# Ex 11\n",
    "\n",
    "for i in range(1, 7):\n",
    "    print(f'{i}**2 = {i**2}')\n",
    "   "
   ]
  },
  {
   "cell_type": "code",
   "execution_count": 19,
   "metadata": {},
   "outputs": [
    {
     "name": "stdout",
     "output_type": "stream",
     "text": [
      "1\n",
      "5\n",
      "14\n",
      "30\n",
      "55\n",
      "91\n"
     ]
    }
   ],
   "source": [
    "# Ex 12\n",
    "\n",
    "soma = 0\n",
    "\n",
    "for i in range(1, 7):\n",
    "    soma += i ** 2\n",
    "    print (soma)\n",
    "   "
   ]
  },
  {
   "cell_type": "code",
   "execution_count": 21,
   "metadata": {},
   "outputs": [
    {
     "name": "stdout",
     "output_type": "stream",
     "text": [
      "1\n",
      "2\n",
      "3\n",
      "4\n"
     ]
    }
   ],
   "source": [
    "# Ex 13\n",
    "\n",
    "for i in range (1, 12):\n",
    "    if i == 5: \n",
    "        break\n",
    "    print(i)"
   ]
  },
  {
   "cell_type": "code",
   "execution_count": 22,
   "metadata": {},
   "outputs": [
    {
     "name": "stdout",
     "output_type": "stream",
     "text": [
      "O elemento 0 da lista é a\n",
      "O elemento 1 da lista é b\n",
      "O elemento 2 da lista é c\n",
      "O elemento 3 da lista é d\n",
      "O elemento 4 da lista é e\n"
     ]
    }
   ],
   "source": [
    "# Exemplo de lista\n",
    "lista = [\"a\", \"b\", \"c\", \"d\", \"e\"]\n",
    "for i in range(len(lista)):\n",
    "    print(f\"O elemento {i} da lista é {lista[i]}\")\n",
    "\n"
   ]
  },
  {
   "cell_type": "code",
   "execution_count": 29,
   "metadata": {},
   "outputs": [
    {
     "name": "stdout",
     "output_type": "stream",
     "text": [
      "1\n"
     ]
    }
   ],
   "source": [
    "# ex 14\n",
    "palavra = \"Fiap\"\n",
    "letra_alvo = 'a'\n",
    "contador = 0\n",
    "\n",
    "for letra in palavra:\n",
    "    if letra == letra_alvo:\n",
    "        contador += 1\n",
    "print(contador)\n",
    "  \n",
    "    "
   ]
  }
 ],
 "metadata": {
  "kernelspec": {
   "display_name": "Python 3",
   "language": "python",
   "name": "python3"
  },
  "language_info": {
   "codemirror_mode": {
    "name": "ipython",
    "version": 3
   },
   "file_extension": ".py",
   "mimetype": "text/x-python",
   "name": "python",
   "nbconvert_exporter": "python",
   "pygments_lexer": "ipython3",
   "version": "3.11.4"
  },
  "orig_nbformat": 4
 },
 "nbformat": 4,
 "nbformat_minor": 2
}
