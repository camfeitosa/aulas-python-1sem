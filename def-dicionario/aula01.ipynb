{
 "cells": [
  {
   "cell_type": "code",
   "execution_count": 4,
   "metadata": {},
   "outputs": [
    {
     "name": "stdout",
     "output_type": "stream",
     "text": [
      "6\n"
     ]
    }
   ],
   "source": [
    "def adicao (n1, n2):\n",
    "    total = n1 + n2\n",
    "    return total\n",
    "\n",
    "print(adicao(2,4))"
   ]
  },
  {
   "cell_type": "code",
   "execution_count": 6,
   "metadata": {},
   "outputs": [
    {
     "name": "stdout",
     "output_type": "stream",
     "text": [
      "6\n",
      "23\n",
      "36\n",
      "5.0\n"
     ]
    }
   ],
   "source": [
    "# Operações\n",
    "\n",
    "def soma (n1, n2):\n",
    "    total = n2 + n2\n",
    "    return total\n",
    "\n",
    "def sub (n1, n2):\n",
    "    total = n1 - n2\n",
    "    return total\n",
    "\n",
    "def mult (n1, n2):\n",
    "    total = n1 * n2\n",
    "    return total\n",
    "\n",
    "def div (n1, n2):\n",
    "    total = n1 / n2\n",
    "    return total\n",
    "\n",
    "\n",
    "\n",
    "print(soma(2,4))\n",
    "print(sub(27,4))\n",
    "print(mult(9,4))\n",
    "print(div(10,2))\n",
    "\n"
   ]
  },
  {
   "cell_type": "code",
   "execution_count": 7,
   "metadata": {},
   "outputs": [
    {
     "name": "stdout",
     "output_type": "stream",
     "text": [
      "81\n"
     ]
    }
   ],
   "source": [
    "def quadrado(x):\n",
    "    area = x * x\n",
    "    return area\n",
    "print(quadrado(9))"
   ]
  },
  {
   "cell_type": "code",
   "execution_count": 8,
   "metadata": {},
   "outputs": [
    {
     "name": "stdout",
     "output_type": "stream",
     "text": [
      "36\n"
     ]
    }
   ],
   "source": [
    "def quadrado():\n",
    "    x = int(input('Digite um valor'))\n",
    "    area = x * x\n",
    "    return area\n",
    "print(quadrado())\n",
    "\n",
    "\n",
    "lado = int(input('Digite um valor'))\n",
    "def quadrado(lado):\n",
    "    area = lado * lado\n",
    "    return area\n",
    "print(quadrado(lado))\n"
   ]
  },
  {
   "cell_type": "code",
   "execution_count": 25,
   "metadata": {},
   "outputs": [
    {
     "name": "stdout",
     "output_type": "stream",
     "text": [
      "par\n",
      "impar\n"
     ]
    }
   ],
   "source": [
    "def numero(n):\n",
    "    if n % 2 == 0:\n",
    "        return 'par'\n",
    "    else:\n",
    "        return 'impar'\n",
    "    \n",
    "print(numero(2))\n",
    "print(numero(77))"
   ]
  },
  {
   "cell_type": "code",
   "execution_count": 23,
   "metadata": {},
   "outputs": [
    {
     "name": "stdout",
     "output_type": "stream",
     "text": [
      "None\n"
     ]
    }
   ],
   "source": [
    "n = int(input('Digite um numero'))\n",
    "\n",
    "def impar(n):\n",
    "    if n % 2 != 0:\n",
    "        return 'ímpar'\n",
    "    \n",
    "print(impar(n))"
   ]
  },
  {
   "cell_type": "code",
   "execution_count": 11,
   "metadata": {},
   "outputs": [
    {
     "name": "stdout",
     "output_type": "stream",
     "text": [
      "78.5\n"
     ]
    }
   ],
   "source": [
    "def circulo(r):\n",
    "    area = 3.14 * (r*r)\n",
    "    return area\n",
    "print(circulo(5))"
   ]
  },
  {
   "cell_type": "code",
   "execution_count": 14,
   "metadata": {},
   "outputs": [
    {
     "name": "stdout",
     "output_type": "stream",
     "text": [
      "23.333333333333332\n"
     ]
    }
   ],
   "source": [
    "def media():\n",
    "    nota1 = int(input('Nota'))\n",
    "    nota2 = int(input('Nota'))\n",
    "    nota3 = int(input('Nota'))\n",
    "\n",
    "    conta_media = nota1 + nota2 + nota3 / 3\n",
    "    return conta_media\n",
    "\n",
    "print(media())"
   ]
  },
  {
   "cell_type": "code",
   "execution_count": null,
   "metadata": {},
   "outputs": [],
   "source": [
    "\n",
    "# Os tres parametros são substituidos\n",
    "\n",
    "m1 = int(input('Nota'))\n",
    "m2 = int(input('Nota'))\n",
    "m3 = int(input('Nota'))\n",
    "\n",
    "def media(nota1, nota2, nota3):\n",
    "    conta_media = nota1 + nota2 + nota3 / 3\n",
    "    return conta_media\n",
    "\n",
    "print(media(m1, m2, m3))"
   ]
  },
  {
   "cell_type": "code",
   "execution_count": 28,
   "metadata": {},
   "outputs": [
    {
     "name": "stdout",
     "output_type": "stream",
     "text": [
      "A soma da lista é 598\n",
      "A média dos valores da lista é:  149.5\n"
     ]
    }
   ],
   "source": [
    "lista = [10, 24, 540, 24]\n",
    "\n",
    "def soma(lista):\n",
    "    total = 0\n",
    "    for i in (lista):\n",
    "        total += i\n",
    "    return total\n",
    "\n",
    "print(\"A soma da lista é\", soma(lista))\n",
    "\n",
    "# Usar duas funções para a média\n",
    "\n",
    "def media(lista):\n",
    "    return soma(lista) / len(lista)\n",
    "\n",
    "print(\"A média dos valores da lista é:\", media(lista))\n"
   ]
  },
  {
   "cell_type": "code",
   "execution_count": 31,
   "metadata": {},
   "outputs": [
    {
     "name": "stdout",
     "output_type": "stream",
     "text": [
      "Requirement already satisfied: pandas in c:\\python311\\lib\\site-packages (2.2.2)\n",
      "Requirement already satisfied: numpy>=1.23.2 in c:\\python311\\lib\\site-packages (from pandas) (1.26.4)\n",
      "Requirement already satisfied: python-dateutil>=2.8.2 in c:\\python311\\lib\\site-packages (from pandas) (2.8.2)\n",
      "Requirement already satisfied: pytz>=2020.1 in c:\\python311\\lib\\site-packages (from pandas) (2024.1)\n",
      "Requirement already satisfied: tzdata>=2022.7 in c:\\python311\\lib\\site-packages (from pandas) (2024.1)\n",
      "Requirement already satisfied: six>=1.5 in c:\\python311\\lib\\site-packages (from python-dateutil>=2.8.2->pandas) (1.16.0)\n",
      "Note: you may need to restart the kernel to use updated packages.\n"
     ]
    },
    {
     "name": "stderr",
     "output_type": "stream",
     "text": [
      "\n",
      "[notice] A new release of pip is available: 23.1.2 -> 24.0\n",
      "[notice] To update, run: python.exe -m pip install --upgrade pip\n"
     ]
    }
   ],
   "source": [
    "pip install pandas"
   ]
  },
  {
   "cell_type": "code",
   "execution_count": 32,
   "metadata": {},
   "outputs": [
    {
     "data": {
      "text/html": [
       "<div>\n",
       "<style scoped>\n",
       "    .dataframe tbody tr th:only-of-type {\n",
       "        vertical-align: middle;\n",
       "    }\n",
       "\n",
       "    .dataframe tbody tr th {\n",
       "        vertical-align: top;\n",
       "    }\n",
       "\n",
       "    .dataframe thead th {\n",
       "        text-align: right;\n",
       "    }\n",
       "</style>\n",
       "<table border=\"1\" class=\"dataframe\">\n",
       "  <thead>\n",
       "    <tr style=\"text-align: right;\">\n",
       "      <th></th>\n",
       "      <th>coluna1</th>\n",
       "      <th>coluna2</th>\n",
       "    </tr>\n",
       "  </thead>\n",
       "  <tbody>\n",
       "    <tr>\n",
       "      <th>0</th>\n",
       "      <td>1</td>\n",
       "      <td>11</td>\n",
       "    </tr>\n",
       "    <tr>\n",
       "      <th>1</th>\n",
       "      <td>2</td>\n",
       "      <td>12</td>\n",
       "    </tr>\n",
       "    <tr>\n",
       "      <th>2</th>\n",
       "      <td>3</td>\n",
       "      <td>13</td>\n",
       "    </tr>\n",
       "    <tr>\n",
       "      <th>3</th>\n",
       "      <td>4</td>\n",
       "      <td>14</td>\n",
       "    </tr>\n",
       "    <tr>\n",
       "      <th>4</th>\n",
       "      <td>5</td>\n",
       "      <td>15</td>\n",
       "    </tr>\n",
       "  </tbody>\n",
       "</table>\n",
       "</div>"
      ],
      "text/plain": [
       "   coluna1  coluna2\n",
       "0        1       11\n",
       "1        2       12\n",
       "2        3       13\n",
       "3        4       14\n",
       "4        5       15"
      ]
     },
     "execution_count": 32,
     "metadata": {},
     "output_type": "execute_result"
    }
   ],
   "source": [
    "import pandas as pd\n",
    "\n",
    "data = {'coluna1' : [1, 2, 3, 4, 5],\n",
    "        'coluna2' : [11, 12, 13, 14, 15]\n",
    "}\n",
    "\n",
    "df = pd.DataFrame(data)\n",
    "df"
   ]
  },
  {
   "cell_type": "code",
   "execution_count": 38,
   "metadata": {},
   "outputs": [],
   "source": [
    "def soma_linha(df):\n",
    "    return df['coluna1'] + df['coluna2']\n",
    "\n",
    "df['soma'] = soma_linha(df)"
   ]
  },
  {
   "cell_type": "code",
   "execution_count": 37,
   "metadata": {},
   "outputs": [
    {
     "data": {
      "text/html": [
       "<div>\n",
       "<style scoped>\n",
       "    .dataframe tbody tr th:only-of-type {\n",
       "        vertical-align: middle;\n",
       "    }\n",
       "\n",
       "    .dataframe tbody tr th {\n",
       "        vertical-align: top;\n",
       "    }\n",
       "\n",
       "    .dataframe thead th {\n",
       "        text-align: right;\n",
       "    }\n",
       "</style>\n",
       "<table border=\"1\" class=\"dataframe\">\n",
       "  <thead>\n",
       "    <tr style=\"text-align: right;\">\n",
       "      <th></th>\n",
       "      <th>coluna1</th>\n",
       "      <th>coluna2</th>\n",
       "      <th>soma</th>\n",
       "    </tr>\n",
       "  </thead>\n",
       "  <tbody>\n",
       "    <tr>\n",
       "      <th>0</th>\n",
       "      <td>1</td>\n",
       "      <td>11</td>\n",
       "      <td>12</td>\n",
       "    </tr>\n",
       "    <tr>\n",
       "      <th>1</th>\n",
       "      <td>2</td>\n",
       "      <td>12</td>\n",
       "      <td>14</td>\n",
       "    </tr>\n",
       "    <tr>\n",
       "      <th>2</th>\n",
       "      <td>3</td>\n",
       "      <td>13</td>\n",
       "      <td>16</td>\n",
       "    </tr>\n",
       "    <tr>\n",
       "      <th>3</th>\n",
       "      <td>4</td>\n",
       "      <td>14</td>\n",
       "      <td>18</td>\n",
       "    </tr>\n",
       "    <tr>\n",
       "      <th>4</th>\n",
       "      <td>5</td>\n",
       "      <td>15</td>\n",
       "      <td>20</td>\n",
       "    </tr>\n",
       "  </tbody>\n",
       "</table>\n",
       "</div>"
      ],
      "text/plain": [
       "   coluna1  coluna2  soma\n",
       "0        1       11    12\n",
       "1        2       12    14\n",
       "2        3       13    16\n",
       "3        4       14    18\n",
       "4        5       15    20"
      ]
     },
     "execution_count": 37,
     "metadata": {},
     "output_type": "execute_result"
    }
   ],
   "source": [
    "df"
   ]
  },
  {
   "cell_type": "code",
   "execution_count": 45,
   "metadata": {},
   "outputs": [
    {
     "name": "stdout",
     "output_type": "stream",
     "text": [
      "197.0\n"
     ]
    }
   ],
   "source": [
    "def mediaUser():\n",
    "\n",
    "    valores = []\n",
    "\n",
    "    for i in range(3):\n",
    "        valor = float(input(\"Digite um valor\".format(i+1)))\n",
    "        valores.append(valor)\n",
    "        \n",
    "    media = sum(valores)/len(valores)\n",
    "    return media\n",
    "\n",
    "print('Valor da média será: ', mediaUser())\n"
   ]
  },
  {
   "cell_type": "code",
   "execution_count": 22,
   "metadata": {},
   "outputs": [
    {
     "name": "stdout",
     "output_type": "stream",
     "text": [
      "1\n",
      "2\n",
      "3\n",
      "4\n"
     ]
    }
   ],
   "source": [
    "\n",
    "# Os tres parametros são substituidos\n",
    "\n",
    "\n",
    "def numero():\n",
    "    n = int(input('Digite um número'))\n",
    "    i = 0\n",
    "\n",
    "    while i != n:\n",
    "        print(i+1)\n",
    "        i+=1\n",
    "\n",
    "numero()"
   ]
  },
  {
   "cell_type": "code",
   "execution_count": 36,
   "metadata": {},
   "outputs": [
    {
     "name": "stdout",
     "output_type": "stream",
     "text": [
      "A cor azul está na lista\n",
      "['ca']\n",
      "['ca', 'ds']\n",
      "['ca', 'ds', 's']\n",
      "['ca', 'ds', 's', 'dsf']\n",
      "['ca', 'ds', 's', 'dsf', 'df']\n"
     ]
    }
   ],
   "source": [
    "cores = ['azul', 'amarelo', 'vermelho', 'roxo', 'rosa']\n",
    "\n",
    "user = str(input('Digite uma cor')).lower()\n",
    "\n",
    "if user in cores:\n",
    "    print(f'A cor {user} está na lista')\n",
    "else:\n",
    "    print('Cor não encontrada')\n",
    "\n",
    "\n",
    "\n",
    "def cor():\n",
    "    cores = []\n",
    "\n",
    "    for i in range(5):\n",
    "        cor = str(input('Digite uma cor'))\n",
    "        cores.append(cor)\n",
    "        print(cores)\n",
    "\n",
    "cor()\n",
    "\n"
   ]
  },
  {
   "cell_type": "code",
   "execution_count": 39,
   "metadata": {},
   "outputs": [
    {
     "name": "stdout",
     "output_type": "stream",
     "text": [
      "402\n"
     ]
    }
   ],
   "source": [
    "\n",
    "def despesas(meses):\n",
    "    despesa_total = 0\n",
    "    for mes in meses:\n",
    "        despesa = int(input(f'Digite um valor para {mes}'))\n",
    "        despesa_total += despesa\n",
    "    print(despesa_total)\n",
    "\n",
    "meses = ['janeiro', 'fevereiro', 'março']\n",
    "despesas(meses)"
   ]
  },
  {
   "cell_type": "code",
   "execution_count": 43,
   "metadata": {},
   "outputs": [
    {
     "name": "stdout",
     "output_type": "stream",
     "text": [
      "{'camisetas': 20, 'calças': 15, 'sapatos': 10}\n"
     ]
    }
   ],
   "source": [
    "produtos = {'camisetas': 20, 'calças': 15, 'sapatos': 30}\n",
    "\n",
    "def atualizar_estoque(produtos):\n",
    "    produto = input(\"Digite um produto\")\n",
    "    qnt_vendida = int(input(\"Digite a quantidade vendadida desse produuto\"))\n",
    "\n",
    "    if produto in produtos:\n",
    "        produtos[produto] -= qnt_vendida\n",
    "        print(produtos)\n",
    "    else:\n",
    "        print('Produto não existe')\n",
    "\n",
    "atualizar_estoque(produtos)\n"
   ]
  },
  {
   "cell_type": "code",
   "execution_count": null,
   "metadata": {},
   "outputs": [],
   "source": []
  }
 ],
 "metadata": {
  "kernelspec": {
   "display_name": "Python 3",
   "language": "python",
   "name": "python3"
  },
  "language_info": {
   "codemirror_mode": {
    "name": "ipython",
    "version": 3
   },
   "file_extension": ".py",
   "mimetype": "text/x-python",
   "name": "python",
   "nbconvert_exporter": "python",
   "pygments_lexer": "ipython3",
   "version": "3.11.4"
  },
  "orig_nbformat": 4
 },
 "nbformat": 4,
 "nbformat_minor": 2
}
