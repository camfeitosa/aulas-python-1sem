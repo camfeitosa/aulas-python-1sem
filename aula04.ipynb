{
 "cells": [
  {
   "cell_type": "code",
   "execution_count": null,
   "metadata": {},
   "outputs": [],
   "source": [
    "minutos = int(input(\"Minutos\"))\n",
    "\n",
    "if minutos < 200:\n",
    "    preco = 0.2\n",
    "else:\n",
    "    if minutos<=400:\n",
    "        preco = 0.18\n",
    "    else:\n",
    "        preco = 0.15\n",
    "\n",
    "print(f'R${preco * minutos}')"
   ]
  },
  {
   "cell_type": "code",
   "execution_count": null,
   "metadata": {},
   "outputs": [],
   "source": [
    "ano = int(input(\"Qual o ano do carro: \"))\n",
    "marca = str(input(\"Qual a marca: \"))\n",
    "\n",
    "if ano >= 2013 and ano <= 2015:\n",
    "    if marca == \"Ford\":\n",
    "        print(\"Seu carro Ford foi fabricado entre 2013 e 2015\")\n",
    "    else:\n",
    "         print(\"Seu carro foi fabricado entre 2013 e 2015, mas não é Ford\")\n",
    "else:\n",
    "    print(\"Fora do intervalo de tempo\")\n"
   ]
  },
  {
   "cell_type": "code",
   "execution_count": null,
   "metadata": {},
   "outputs": [],
   "source": [
    "# Aninhada\n",
    "\n",
    "hora = int(input(\"Insira horário\"))\n",
    "temperatura = int(input(\"Insira temperatura\"))\n",
    "\n",
    "\n",
    "if 6 < hora <= 12:\n",
    "    if temperatura > 20:\n",
    "        print(\"Caminhada matinal\")\n",
    "    else:\n",
    "        print(\"Hora do café\")\n",
    "\n",
    "elif 12 < hora < 18:\n",
    "    if temperatura > 25:\n",
    "        print(\"Piquenique\")\n",
    "    else: \n",
    "        print(\"Almoço leve\")\n",
    "else: \n",
    "    print(\"Relaxar\")"
   ]
  },
  {
   "cell_type": "code",
   "execution_count": null,
   "metadata": {},
   "outputs": [],
   "source": [
    "# Verificação de acesso a um site\n",
    "\n",
    "user = str(input(\"Usuário: \"))\n",
    "senha = str(input(\"Digite sua senha: \"))\n",
    "\n",
    "if user == \"admin\":\n",
    "    if senha == \"password\":\n",
    "        print(\"Bem-vindo, admin!!!\")\n",
    "    else:\n",
    "        print(\"Senha incorreta, tente novamente\")\n",
    "else:\n",
    "    print(\"Nome de usuário incorreto\")\n"
   ]
  },
  {
   "cell_type": "code",
   "execution_count": null,
   "metadata": {},
   "outputs": [],
   "source": [
    "# count\n",
    "\n",
    "count = 1 \n",
    "while count <= 5:\n",
    "    print(count)\n",
    "    count += 1"
   ]
  },
  {
   "cell_type": "code",
   "execution_count": null,
   "metadata": {},
   "outputs": [],
   "source": [
    "# estrutura de repetição\n",
    "\n",
    "soma = 0\n",
    "\n",
    "print(\"Entre com um número para soma\")\n",
    "entrada = int(input())\n",
    "\n",
    "while entrada > 0 :\n",
    "    soma += entrada\n",
    "    print(\"A soma é\", soma)\n",
    "    entrada = int(input())\n",
    "\n"
   ]
  },
  {
   "cell_type": "code",
   "execution_count": null,
   "metadata": {},
   "outputs": [],
   "source": [
    "soma = 0\n",
    "num = 0\n",
    "\n",
    "while num <= 5:\n",
    "    soma += num\n",
    "    num += 1\n",
    "    print(soma)\n"
   ]
  },
  {
   "cell_type": "code",
   "execution_count": null,
   "metadata": {},
   "outputs": [],
   "source": [
    "done = False\n",
    "\n",
    "while not done:\n",
    "    entrada = int(input())\n",
    "    if entrada == 999:\n",
    "        done = True\n",
    "    else:\n",
    "        print(entrada)"
   ]
  },
  {
   "cell_type": "code",
   "execution_count": 103,
   "metadata": {},
   "outputs": [],
   "source": [
    "input_user = ''\n",
    "\n",
    "while input_user != 'sair':\n",
    "    input_user = input(\"Digite sair para parar o programa\")\n"
   ]
  },
  {
   "cell_type": "code",
   "execution_count": 105,
   "metadata": {},
   "outputs": [
    {
     "name": "stdout",
     "output_type": "stream",
     "text": [
      "50 x 1 = 50\n",
      "50 x 2 = 100\n",
      "50 x 3 = 150\n",
      "50 x 4 = 200\n",
      "50 x 5 = 250\n",
      "50 x 6 = 300\n",
      "50 x 7 = 350\n",
      "50 x 8 = 400\n",
      "50 x 9 = 450\n",
      "50 x 10 = 500\n"
     ]
    }
   ],
   "source": [
    "# tabuada\n",
    "\n",
    "num = int(input('Número'))\n",
    "i = 1\n",
    "\n",
    "while i <= 10:\n",
    "    print(num, \"x\", i, \"=\", num * i)\n",
    "    i += 1"
   ]
  },
  {
   "cell_type": "code",
   "execution_count": 108,
   "metadata": {},
   "outputs": [
    {
     "name": "stdout",
     "output_type": "stream",
     "text": [
      "soma atual 50\n",
      "soma atual 100\n",
      "A soma ultrapassou 100\n"
     ]
    }
   ],
   "source": [
    "soma = 0\n",
    "\n",
    "while soma <= 100:\n",
    "    numero = int(input(\"Digite um numero\"))\n",
    "    soma += numero\n",
    "\n",
    "    if soma <= 100:\n",
    "        print(\"soma atual\", soma)\n",
    "\n",
    "print(\"A soma ultrapassou 100\")\n"
   ]
  },
  {
   "cell_type": "code",
   "execution_count": 114,
   "metadata": {},
   "outputs": [],
   "source": [
    "# senha\n",
    "\n",
    "# user = str(input(\"Usuário: \"))\n",
    "\n",
    "\n",
    "\n",
    "\n",
    "    "
   ]
  }
 ],
 "metadata": {
  "kernelspec": {
   "display_name": "Python 3",
   "language": "python",
   "name": "python3"
  },
  "language_info": {
   "codemirror_mode": {
    "name": "ipython",
    "version": 3
   },
   "file_extension": ".py",
   "mimetype": "text/x-python",
   "name": "python",
   "nbconvert_exporter": "python",
   "pygments_lexer": "ipython3",
   "version": "3.11.4"
  },
  "orig_nbformat": 4
 },
 "nbformat": 4,
 "nbformat_minor": 2
}
