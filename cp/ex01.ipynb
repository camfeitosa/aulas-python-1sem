{
 "cells": [
  {
   "cell_type": "code",
   "execution_count": 22,
   "metadata": {},
   "outputs": [
    {
     "name": "stdout",
     "output_type": "stream",
     "text": [
      "Parabéns! Você acertou a palavra: oi\n"
     ]
    }
   ],
   "source": [
    "#ex 1  1. Neste jogo, o usuário 1 escolhe a palavra a ser adivinhada. O usuário 2 tem três tentativas para adivinhar a palavra. Se acertar, o programa imprime \"Parabéns! Você acertou a palavra:\". Caso contrário, o programa informa quantas tentativas restantes o usuário 2 tem. Se o usuário 2 não adivinhar corretamente, o programa informa que ele perdeu.\n",
    "\n",
    "palavra_user1 = str(input(\"Escolha a palavra para ser adivinhada: \"))\n",
    "palavra_user2 = str(input(\"Adivinhe a palavra: \"))\n",
    "\n",
    "if palavra_user2 != palavra_user1:\n",
    "    print(\"2 tentativas restantes\")\n",
    "    tentativa2 = str(input(\"Escolha a palavra para ser adivinhada: \"))\n",
    "\n",
    "    if tentativa2 != palavra_user1:\n",
    "        print(\"1 tentativa restante\")\n",
    "        tentativa3 = str(input(\"Escolha a palavra para ser adivinhada: \"))\n",
    "    else:\n",
    "        print(\"Parabéns! Você acertou a palavra:\", palavra_user1)\n",
    "\n",
    "    if tentativa3 != palavra_user1:\n",
    "            print(\"Você perdeu!\")\n",
    "    else:\n",
    "        print(\"Parabéns! Você acertou a palavra:\", palavra_user1)\n",
    "else:\n",
    "    print(\"Parabéns! Você acertou a palavra:\", palavra_user1)\n",
    "\n",
    "\n"
   ]
  },
  {
   "cell_type": "code",
   "execution_count": 19,
   "metadata": {},
   "outputs": [],
   "source": [
    "# 2. Crie um programa que solicite a quantidade de 4 produtos e seus respectivos valores. Em seguida, exiba os valores da relação preço x quantidade dos produtos em ordem crescente. Utilize apenas os conceitos apresentados em sala de aula.\n",
    "\n",
    "quantidade_produto1 = int(input(\"Quantidade de produto: \"))\n",
    "quantidade_produto2 = int(input(\"Quantidade de produto: \"))\n",
    "quantidade_produto3 = int(input(\"Quantidade de produto: \"))\n",
    "quantidade_produto4 = int(input(\"Quantidade de produto: \"))\n",
    "\n",
    "valor_produto1 = float(input(\"valor do produto: \"))\n",
    "valor_produto2 = float(input(\"valor do produto: \"))\n",
    "valor_produto3 = float(input(\"valor do produto: \"))\n",
    "valor_produto4 = float(input(\"valor do produto: \"))\n",
    "\n",
    "relacao1 = quantidade_produto1 * valor_produto1\n",
    "relacao2 = quantidade_produto1 * valor_produto2\n",
    "relacao3 = quantidade_produto1 * valor_produto3\n",
    "relacao4 = quantidade_produto1 * valor_produto4\n",
    "\n",
    "# print(relacao1)\n",
    "# print(relacao2)\n",
    "# print(relacao3)\n",
    "# print(relacao4)\n",
    "\n",
    "if relacao1 < relacao2 and relacao1 < relacao3 and relacao1 < relacao4:\n",
    "    if relacao2 < relacao3 and relacao2 < relacao4 and relacao3 < relacao4:\n",
    "        print(\"Valor 1\", relacao1)\n",
    "        print(\"Valor 2\",relacao2)\n",
    "        print(\"Valor 3\",relacao3)\n",
    "        print(\"Valor 4\",relacao4)\n",
    "    elif relacao3 < relacao2 and relacao3 < relacao4 and relacao2 < relacao4:\n",
    "        print(\"Valor 1\",relacao1)\n",
    "        print(\"Valor 3\",relacao3)\n",
    "        print(\"Valor 2\",relacao2)\n",
    "        print(\"Valor 4\",relacao4)\n",
    "    elif relacao4 < relacao2 and relacao4 < relacao3 and relacao2 < relacao3:\n",
    "        print(\"Valor 1\",relacao1)\n",
    "        print(\"Valor 4\",relacao4)\n",
    "        print(\"Valor 2\",relacao2)\n",
    "        print(\"Valor 3\",relacao3)\n",
    "else: \n",
    "    print(\"Fora de ordem\")\n",
    "\n",
    "    \n"
   ]
  },
  {
   "cell_type": "code",
   "execution_count": 13,
   "metadata": {},
   "outputs": [
    {
     "name": "stdout",
     "output_type": "stream",
     "text": [
      "Acesso permitido\n"
     ]
    }
   ],
   "source": [
    "# 3. Desenvolva um programa que permita ao usuário inserir seu nome de usuário, senha e uma palavra-chave. Em seguida, crie uma lógica para verificar o nome de usuário, senha e palavra-chave. \n",
    "\n",
    "#Caso estejam corretos, exiba \"Acesso permitido\". Caso haja duas falhas de entrada, informe que o usuário será bloqueado.\n",
    "\n",
    "nome_user = str(input(\"Insira seu nome: \"))\n",
    "senha = str(input(\"Insira sua senha: \"))\n",
    "palavra_chave = str(input(\"Insira uma palavra-chave: \"))\n",
    "\n",
    "if nome_user == \"admin\" and senha == '123' and palavra_chave == \"dev\":\n",
    "    print(\"Acesso permitido\")\n",
    "elif nome_user != \"admin\" and senha != \"123\":\n",
    "    print(\"Bloqueado\")\n",
    "elif nome_user != \"admin\" and palavra_chave != \"dev\":\n",
    "    print(\"Bloqueado\")\n",
    "elif senha != \"admin\" and palavra_chave != \"dev\":\n",
    "    print(\"Bloqueado\")\n",
    "else:\n",
    "    print(\"Acesso permitido\")\n",
    "    "
   ]
  },
  {
   "cell_type": "code",
   "execution_count": null,
   "metadata": {},
   "outputs": [],
   "source": [
    "# 4. Desenvolva um conversor de moeda que permita ao usuário inserir a moeda que deseja converter. Em seguida, crie uma estrutura para converter a moeda escolhida para três moedas selecionadas pelo usuário. Você definirá a relação de conversão das moedas.\n",
    "\n",
    "moeda = float(input(\"Escolha a moeda\"))\n",
    "\n",
    "\n",
    "\n",
    "\n"
   ]
  },
  {
   "cell_type": "code",
   "execution_count": null,
   "metadata": {},
   "outputs": [],
   "source": [
    "#5. Crie um programa para calcular a média ponderada de 4 valores de vendas com entrada de dados pelo usuário. Em seguida, exiba a porcentagem de cada valor de venda em relação à média ponderada.\n",
    "\n",
    "valor1 = int(input(\"Insira o valor:\"))\n",
    "valor2 = int(input(\"Insira o valor:\"))\n",
    "valor3 = int(input(\"Insira o valor:\"))\n",
    "valor4 = int(input(\"Insira o valor:\"))\n",
    "\n",
    "media_ponderada = \n",
    "\n"
   ]
  },
  {
   "cell_type": "code",
   "execution_count": 12,
   "metadata": {},
   "outputs": [
    {
     "name": "stdout",
     "output_type": "stream",
     "text": [
      "Passaporte frances\n"
     ]
    }
   ],
   "source": [
    "# 6. Crie um exercício relacionado aos passageiros de um aeroporto, no qual deve haver uma estrutura de entrada que pergunte onde o usuário está e para onde deseja ir. Caso seja brasileiro e queira ir para a Inglaterra, mostre que o passageiro deverá ter um passaporte britânico. Se desejar ir para a Alemanha, mostre que ele precisa de um passaporte alemão. Se desejar ir para os Estados Unidos, informe que é necessário um passaporte americano. E assim por diante, para outros países.\n",
    "\n",
    "localizacao_atual = str(input(\"Informe seu local atual: \"))\n",
    "destino = str(input(\"Informe seu destino: \"))\n",
    "\n",
    "if localizacao_atual == \"Brasil\":\n",
    "    if destino == \"Inglaterra\":\n",
    "        print(\"Passaporte britânico\")\n",
    "    elif destino == \"Alemanha\":\n",
    "        print(\"Passaporte alemão\")\n",
    "    elif destino == \"Estados Unidos\":\n",
    "        print(\"Passaporte americano\")\n",
    "    elif destino == \"França\":\n",
    "        print(\"Passaporte frances\")\n",
    "else:\n",
    "    print(\"Você não está no Brasil\")\n",
    "    \n"
   ]
  }
 ],
 "metadata": {
  "kernelspec": {
   "display_name": "Python 3",
   "language": "python",
   "name": "python3"
  },
  "language_info": {
   "codemirror_mode": {
    "name": "ipython",
    "version": 3
   },
   "file_extension": ".py",
   "mimetype": "text/x-python",
   "name": "python",
   "nbconvert_exporter": "python",
   "pygments_lexer": "ipython3",
   "version": "3.11.4"
  },
  "orig_nbformat": 4
 },
 "nbformat": 4,
 "nbformat_minor": 2
}
