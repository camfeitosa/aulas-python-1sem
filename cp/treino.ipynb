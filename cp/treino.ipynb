{
 "cells": [
  {
   "cell_type": "code",
   "execution_count": 2,
   "metadata": {},
   "outputs": [
    {
     "name": "stdout",
     "output_type": "stream",
     "text": [
      "O número 1 é MAIOR\n"
     ]
    }
   ],
   "source": [
    "num1 = int(input(\"Digite um número\"))\n",
    "num2 = int(input(\"Digite um número\"))\n",
    "\n",
    "if num1 > num2 :\n",
    "  print(\"O número 1 é MAIOR\")\n",
    "else:\n",
    "  print(\"O numero 2 é maior\")"
   ]
  },
  {
   "cell_type": "code",
   "execution_count": null,
   "metadata": {},
   "outputs": [],
   "source": [
    "# vogal ou consoante\n",
    "\n",
    "# num = int(input(\"Digite um número\"))\n",
    "\n",
    "# if num == "
   ]
  },
  {
   "cell_type": "code",
   "execution_count": 5,
   "metadata": {},
   "outputs": [
    {
     "name": "stdout",
     "output_type": "stream",
     "text": [
      "Sexo Masculino\n"
     ]
    }
   ],
   "source": [
    "genero = str(input(\"Digite M para masculino ou F para feminino: \"))\n",
    "\n",
    "if genero == \"F\":\n",
    "  print(\"Sexo Feminino\")\n",
    "elif genero == \"M\":\n",
    "  print(\"Sexo Masculino\")\n",
    "else:\n",
    "  print(\"Sexo inválido\")"
   ]
  },
  {
   "cell_type": "code",
   "execution_count": 10,
   "metadata": {},
   "outputs": [
    {
     "name": "stdout",
     "output_type": "stream",
     "text": [
      "letra vogal\n"
     ]
    }
   ],
   "source": [
    "letra = str(input(\"Digite uma letra: \"))\n",
    "\n",
    "if letra == \"a\":\n",
    "  print(\"letra vogal\")\n",
    "else:\n",
    "  print(\"Consoante\")"
   ]
  },
  {
   "cell_type": "code",
   "execution_count": 20,
   "metadata": {},
   "outputs": [
    {
     "name": "stdout",
     "output_type": "stream",
     "text": [
      "Não se encaixa\n"
     ]
    }
   ],
   "source": [
    "num1 = int(input(\"Digite um número\"))\n",
    "num2 = int(input(\"Digite um número\"))\n",
    "num3 = int(input(\"Digite um número\"))\n",
    "\n",
    "if num1 > num2 and num1 > num3:\n",
    "  print(\"1 maior\")\n",
    "elif num2 > num1 and num2 > num3:\n",
    "  print(\"2 maior\")\n",
    "elif num3 > num1 and num3 > num2:\n",
    "  print(\"3 maior\")\n",
    "elif num1 == num2 or num1==num3 or num2 == num3:\n",
    "  print(\"Não se encaixa\")\n"
   ]
  },
  {
   "cell_type": "code",
   "execution_count": 6,
   "metadata": {},
   "outputs": [
    {
     "name": "stdout",
     "output_type": "stream",
     "text": [
      "Python na Escola de Programação da Alura\n",
      "Meu nome é Camila e tenho  17 anos\n",
      "Meu nome é Camila e tenho 17 anos\n",
      "Meu nome é Camila e tenho 17 anos\n",
      "Meu nome é Camila e tenho 17 anos\n"
     ]
    }
   ],
   "source": [
    "print(\"Python na Escola de Programação da Alura\")\n",
    "\n",
    "nome = \"Camila\"\n",
    "idade = 17\n",
    "\n",
    "# entre vírgulas\n",
    "print(\"Meu nome é\", nome, \"e tenho \",idade,\"anos\")\n",
    "\n",
    "# f-string\n",
    "print(f\"Meu nome é {nome} e tenho {idade} anos\")\n",
    "\n",
    "# Abordagem do .format()\n",
    "print(\"Meu nome é {} e tenho {} anos\".format(nome, idade))\n",
    "\n",
    "# Abordagem da % (Formatação de String Antiga - Python 2)\n",
    "print(\"Meu nome é %s e tenho %i anos\"%(nome, idade))\n",
    "\n"
   ]
  },
  {
   "cell_type": "code",
   "execution_count": null,
   "metadata": {},
   "outputs": [],
   "source": [
    "# ex Alura\n",
    "\n",
    "pi = 3.14159\n",
    "\n",
    "# Abordagem de f-string\n",
    "print(f'O valor arredondado de pi é: {pi:.2f}')\n",
    "\n",
    "# Abordagem de .format()\n",
    "print('O valor arredondado de pi é: {:.2f}'.format(pi))\n",
    "\n",
    "# Utilizando a função round()\n",
    "print('O valor arredondado de pi é:', round(pi, 2))\n"
   ]
  },
  {
   "cell_type": "code",
   "execution_count": null,
   "metadata": {},
   "outputs": [],
   "source": [
    "# Aninhada\n",
    "\n",
    "ano = int(input(\"Qual o ano do carro: \"))\n",
    "marca = str(input(\"Qual a marca: \"))\n",
    "\n",
    "if ano >= 2013 and ano <= 2015:\n",
    "    if marca == \"Ford\":\n",
    "        print(\"Seu carro Ford foi fabricado entre 2013 e 2015\")\n",
    "    else:\n",
    "         print(\"Seu carro foi fabricado entre 2013 e 2015, mas não é Ford\")\n",
    "else:\n",
    "    print(\"Fora do intervalo de tempo\")\n"
   ]
  },
  {
   "cell_type": "code",
   "execution_count": null,
   "metadata": {},
   "outputs": [],
   "source": [
    "# Aninhada\n",
    "\n",
    "hora = int(input(\"Insira horário\"))\n",
    "temperatura = int(input(\"Insira temperatura\"))\n",
    "\n",
    "\n",
    "if 6 < hora <= 12:\n",
    "    if temperatura > 20:\n",
    "        print(\"Caminhada matinal\")\n",
    "    else:\n",
    "        print(\"Hora do café\")\n",
    "\n",
    "elif 12 < hora < 18:\n",
    "    if temperatura > 25:\n",
    "        print(\"Piquenique\")\n",
    "    else: \n",
    "        print(\"Almoço leve\")\n",
    "else: \n",
    "    print(\"Relaxar\")"
   ]
  }
 ],
 "metadata": {
  "kernelspec": {
   "display_name": "Python 3",
   "language": "python",
   "name": "python3"
  },
  "language_info": {
   "codemirror_mode": {
    "name": "ipython",
    "version": 3
   },
   "file_extension": ".py",
   "mimetype": "text/x-python",
   "name": "python",
   "nbconvert_exporter": "python",
   "pygments_lexer": "ipython3",
   "version": "3.11.9"
  },
  "orig_nbformat": 4
 },
 "nbformat": 4,
 "nbformat_minor": 2
}
