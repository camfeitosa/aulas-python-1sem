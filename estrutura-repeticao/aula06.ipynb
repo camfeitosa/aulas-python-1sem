{
 "cells": [
  {
   "cell_type": "code",
   "execution_count": 7,
   "metadata": {},
   "outputs": [
    {
     "name": "stdout",
     "output_type": "stream",
     "text": [
      "sdnkf\n"
     ]
    }
   ],
   "source": [
    "texto = str(input(\"Texto maicusculo: \"))\n",
    "\n",
    "texto_lower = ''\n",
    "\n",
    "for i in texto:\n",
    "    texto_lower += i.lower()\n",
    "\n",
    "print(texto_lower)\n",
    "\n"
   ]
  },
  {
   "cell_type": "code",
   "execution_count": 1,
   "metadata": {},
   "outputs": [
    {
     "name": "stdout",
     "output_type": "stream",
     "text": [
      "O número de vogais é 13\n"
     ]
    }
   ],
   "source": [
    "texto = \"Data Science é a profissão do momento\"\n",
    "vogais = \"aeiouAEIOU\"\n",
    "contador = 0\n",
    "\n",
    "for i in texto:\n",
    "    if i in vogais:\n",
    "        contador += 1\n",
    "print(f\"O número de vogais é {contador}\")"
   ]
  },
  {
   "cell_type": "code",
   "execution_count": 3,
   "metadata": {},
   "outputs": [
    {
     "data": {
      "text/plain": [
       "[13, 22, 35]"
      ]
     },
     "execution_count": 3,
     "metadata": {},
     "output_type": "execute_result"
    }
   ],
   "source": [
    "lista1 = [5, 10, 15]\n",
    "lista2 = [8, 12, 20]\n",
    "\n",
    "soma = [lista1[i] + lista2[i] for i in range(len(lista2))]\n",
    "soma"
   ]
  },
  {
   "cell_type": "code",
   "execution_count": 5,
   "metadata": {},
   "outputs": [
    {
     "data": {
      "text/plain": [
       "[18, 19, 25, 19]"
      ]
     },
     "execution_count": 5,
     "metadata": {},
     "output_type": "execute_result"
    }
   ],
   "source": [
    "lista1 = [1, 10, 15, 6]\n",
    "lista2 = [9, 1, 2, 5]\n",
    "lista3 = [3, 9, 5, 8]\n",
    "\n",
    "soma = [lista1[i] + lista2[i] + lista3[3] for i in range(len(lista2))]\n",
    "print(soma)"
   ]
  },
  {
   "cell_type": "code",
   "execution_count": 6,
   "metadata": {},
   "outputs": [
    {
     "name": "stdout",
     "output_type": "stream",
     "text": [
      "[8, 4, 5, -6]\n"
     ]
    }
   ],
   "source": [
    "lista4 = [10, 15, 20, 25]\n",
    "sub = [soma[i] - lista4[i] for i in range(len(lista4))]\n",
    "print(sub)"
   ]
  },
  {
   "cell_type": "code",
   "execution_count": 13,
   "metadata": {},
   "outputs": [
    {
     "name": "stdout",
     "output_type": "stream",
     "text": [
      "[10, 15, 20, 25, 8]\n",
      "['hoje', 'é', 'dia', 'de', 'aprender', 'python']\n",
      "hoje\n",
      "é\n",
      "dia\n",
      "de\n",
      "aprender\n",
      "python\n",
      "python\n"
     ]
    }
   ],
   "source": [
    "lista4 = [10, 15, 20, 25]\n",
    "\n",
    "lista4.append(8)\n",
    "print(lista4)\n",
    "\n",
    "palavras = ['hoje', 'é', 'dia', 'de', 'aprender']\n",
    "\n",
    "palavras.append('python')\n",
    "print(palavras)\n",
    "\n",
    "for i in palavras:\n",
    "    print(i)\n"
   ]
  },
  {
   "cell_type": "code",
   "execution_count": 16,
   "metadata": {},
   "outputs": [
    {
     "data": {
      "text/plain": [
       "'hoje é dia de aprender python'"
      ]
     },
     "execution_count": 16,
     "metadata": {},
     "output_type": "execute_result"
    }
   ],
   "source": [
    "texto = \" \".join(palavras)\n",
    "texto"
   ]
  },
  {
   "cell_type": "code",
   "execution_count": 20,
   "metadata": {},
   "outputs": [
    {
     "data": {
      "text/plain": [
       "['sfsd']"
      ]
     },
     "execution_count": 20,
     "metadata": {},
     "output_type": "execute_result"
    }
   ],
   "source": [
    "cidades = []\n",
    "\n",
    "cidade = input(\"digite a primeira cidade: \")\n",
    "cidades.append(cidade)\n",
    "\n",
    "cidades\n"
   ]
  },
  {
   "cell_type": "code",
   "execution_count": null,
   "metadata": {},
   "outputs": [],
   "source": []
  }
 ],
 "metadata": {
  "kernelspec": {
   "display_name": "Python 3",
   "language": "python",
   "name": "python3"
  },
  "language_info": {
   "codemirror_mode": {
    "name": "ipython",
    "version": 3
   },
   "file_extension": ".py",
   "mimetype": "text/x-python",
   "name": "python",
   "nbconvert_exporter": "python",
   "pygments_lexer": "ipython3",
   "version": "3.11.4"
  },
  "orig_nbformat": 4
 },
 "nbformat": 4,
 "nbformat_minor": 2
}
