{
 "cells": [
  {
   "cell_type": "code",
   "execution_count": 4,
   "metadata": {},
   "outputs": [
    {
     "name": "stdout",
     "output_type": "stream",
     "text": [
      "6\n"
     ]
    }
   ],
   "source": [
    "def adicao (n1, n2):\n",
    "    total = n1 + n2\n",
    "    return total\n",
    "\n",
    "print(adicao(2,4))"
   ]
  },
  {
   "cell_type": "code",
   "execution_count": 6,
   "metadata": {},
   "outputs": [
    {
     "name": "stdout",
     "output_type": "stream",
     "text": [
      "6\n",
      "23\n",
      "36\n",
      "5.0\n"
     ]
    }
   ],
   "source": [
    "# Operações\n",
    "\n",
    "def soma (n1, n2):\n",
    "    total = n2 + n2\n",
    "    return total\n",
    "\n",
    "def sub (n3, n2):\n",
    "    total = n1 - n2\n",
    "    return total\n",
    "\n",
    "def mult (n1, n2):\n",
    "    total = n1 * n2\n",
    "    return total\n",
    "\n",
    "def div (n1, n2):\n",
    "    total = n1 / n2\n",
    "    return total\n",
    "\n",
    "\n",
    "\n",
    "print(soma(2,4))\n",
    "print(sub(27,4))\n",
    "print(mult(9,4))\n",
    "print(div(10,2))\n",
    "\n"
   ]
  },
  {
   "cell_type": "code",
   "execution_count": 7,
   "metadata": {},
   "outputs": [
    {
     "name": "stdout",
     "output_type": "stream",
     "text": [
      "81\n"
     ]
    }
   ],
   "source": [
    "def quadrado(x):\n",
    "    area = x * x\n",
    "    return area\n",
    "print(quadrado(9))"
   ]
  },
  {
   "cell_type": "code",
   "execution_count": 8,
   "metadata": {},
   "outputs": [
    {
     "name": "stdout",
     "output_type": "stream",
     "text": [
      "36\n"
     ]
    }
   ],
   "source": [
    "def quadrado():\n",
    "    x = int(input('Digite um valor'))\n",
    "    area = x * x\n",
    "    return area\n",
    "print(quadrado())\n",
    "\n",
    "\n",
    "lado = int(input('Digite um valor'))\n",
    "def quadrado(lado):\n",
    "    area = lado * lado\n",
    "    return area\n",
    "print(quadrado(lado))\n"
   ]
  },
  {
   "cell_type": "code",
   "execution_count": 10,
   "metadata": {},
   "outputs": [
    {
     "name": "stdout",
     "output_type": "stream",
     "text": [
      "par\n",
      "impar\n"
     ]
    }
   ],
   "source": [
    "def numero(n):\n",
    "    if n % 2 == 0:\n",
    "        return 'par'\n",
    "    else:\n",
    "        return 'impar'\n",
    "    \n",
    "print(numero(2))\n",
    "print(numero(77))"
   ]
  },
  {
   "cell_type": "code",
   "execution_count": null,
   "metadata": {},
   "outputs": [],
   "source": [
    "def par(n):\n",
    "    "
   ]
  },
  {
   "cell_type": "code",
   "execution_count": 11,
   "metadata": {},
   "outputs": [
    {
     "name": "stdout",
     "output_type": "stream",
     "text": [
      "78.5\n"
     ]
    }
   ],
   "source": [
    "def circulo(r):\n",
    "    area = 3.14 * (r*r)\n",
    "    return area\n",
    "print(circulo(5))"
   ]
  },
  {
   "cell_type": "code",
   "execution_count": 14,
   "metadata": {},
   "outputs": [
    {
     "name": "stdout",
     "output_type": "stream",
     "text": [
      "23.333333333333332\n"
     ]
    }
   ],
   "source": [
    "def media():\n",
    "    nota1 = int(input('Nota'))\n",
    "    nota2 = int(input('Nota'))\n",
    "    nota3 = int(input('Nota'))\n",
    "\n",
    "    conta_media = nota1 + nota2 + nota3 / 3\n",
    "    return conta_media\n",
    "\n",
    "print(media())"
   ]
  },
  {
   "cell_type": "code",
   "execution_count": 17,
   "metadata": {},
   "outputs": [
    {
     "name": "stdout",
     "output_type": "stream",
     "text": [
      "[10, 24, 540, 24]\n"
     ]
    }
   ],
   "source": [
    "def media():\n",
    "    lista = [10, 24, 540, 24]\n",
    "    \n",
    "\n",
    "\n",
    "    return(lista)\n",
    "\n",
    "\n",
    "\n",
    "print(media())"
   ]
  }
 ],
 "metadata": {
  "kernelspec": {
   "display_name": "Python 3",
   "language": "python",
   "name": "python3"
  },
  "language_info": {
   "codemirror_mode": {
    "name": "ipython",
    "version": 3
   },
   "file_extension": ".py",
   "mimetype": "text/x-python",
   "name": "python",
   "nbconvert_exporter": "python",
   "pygments_lexer": "ipython3",
   "version": "3.11.4"
  },
  "orig_nbformat": 4
 },
 "nbformat": 4,
 "nbformat_minor": 2
}
