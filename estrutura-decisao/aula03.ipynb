{
 "cells": [
  {
   "cell_type": "code",
   "execution_count": 2,
   "metadata": {},
   "outputs": [
    {
     "name": "stdout",
     "output_type": "stream",
     "text": [
      "A é maior 10\n"
     ]
    }
   ],
   "source": [
    "a  = 10\n",
    "b = 5\n",
    "c = 2\n",
    "\n",
    "if a >b:\n",
    "    print(\"A é maior\", a)\n",
    "else:\n",
    "    print(\"B é maior\", b)"
   ]
  },
  {
   "cell_type": "code",
   "execution_count": 9,
   "metadata": {},
   "outputs": [
    {
     "name": "stdout",
     "output_type": "stream",
     "text": [
      "B é menor do que a 5\n"
     ]
    }
   ],
   "source": [
    "a  = 10\n",
    "b = 5\n",
    "c = 2\n",
    "\n",
    "if a < b:\n",
    "    print(\"A é maior\", a)\n",
    "else:\n",
    "    print(\"B é menor do que a\", b)"
   ]
  },
  {
   "cell_type": "code",
   "execution_count": 3,
   "metadata": {},
   "outputs": [
    {
     "name": "stdout",
     "output_type": "stream",
     "text": [
      "São diferentes 10\n"
     ]
    }
   ],
   "source": [
    "a  = 10\n",
    "b = 5\n",
    "c = 2\n",
    "\n",
    "if a != b:\n",
    "    print(\"São diferentes\", a)\n",
    "else:\n",
    "    print(\"Não são diferentes\", b)"
   ]
  },
  {
   "cell_type": "code",
   "execution_count": 7,
   "metadata": {},
   "outputs": [
    {
     "name": "stdout",
     "output_type": "stream",
     "text": [
      "Iguais\n"
     ]
    }
   ],
   "source": [
    "a  = 10\n",
    "b = 10\n",
    "c = 2\n",
    "\n",
    "if a >b:\n",
    "    print(\"A é maior\")\n",
    "elif a == b:\n",
    "    print(\"Iguais\")\n",
    "else:\n",
    "    print(\"B é maior\")"
   ]
  },
  {
   "cell_type": "code",
   "execution_count": 8,
   "metadata": {},
   "outputs": [
    {
     "name": "stdout",
     "output_type": "stream",
     "text": [
      "Não me interessa\n"
     ]
    }
   ],
   "source": [
    "a  = 10\n",
    "b = 10\n",
    "c = 2\n",
    "\n",
    "if (a >b)  and (c > 10):\n",
    "    print(\"Resultado 1\")\n",
    "else:\n",
    "    print(\"Não me interessa\")\n"
   ]
  },
  {
   "cell_type": "code",
   "execution_count": 62,
   "metadata": {},
   "outputs": [
    {
     "name": "stdout",
     "output_type": "stream",
     "text": [
      "Esse não é o meu país\n"
     ]
    }
   ],
   "source": [
    "a = \"Brasil\"\n",
    "b = \"EUA\"\n",
    "c = \"Inglaterra\"\n",
    "\n",
    "if c == 'Inglaterra':\n",
    "    print(\"Este é o país que nascemos\")\n",
    "else:\n",
    "    print(\"Esse não é o meu país\")"
   ]
  },
  {
   "cell_type": "code",
   "execution_count": 9,
   "metadata": {},
   "outputs": [
    {
     "name": "stdout",
     "output_type": "stream",
     "text": [
      "O primeiro número é maior: 10 > 1\n"
     ]
    }
   ],
   "source": [
    "#Ex 1\n",
    "\n",
    "n1 = int(input(\"Insira um número: \"))\n",
    "n2 = int(input(\"Insira outro número: \"))\n",
    "\n",
    "if n1 > n2:\n",
    "    print(f\"O primeiro número é maior: {n1} > {n2}\")\n",
    "elif(n1 == n2):\n",
    "    print(\"São iguais: \", n1, \"==\", n2)\n",
    "else:\n",
    "    print(\"O segundo número é maior: \", n2 ,\">\", n1)"
   ]
  },
  {
   "cell_type": "code",
   "execution_count": 39,
   "metadata": {},
   "outputs": [
    {
     "name": "stdout",
     "output_type": "stream",
     "text": [
      "Dois valores são iguais\n"
     ]
    }
   ],
   "source": [
    "# Ex 2\n",
    "\n",
    "n1 = int(input(\"Insira um número: \"))\n",
    "n2 = int(input(\"Insira outro número: \"))\n",
    "n3 = int(input(\"Insira outro número: \"))\n",
    "\n",
    "if (n1 > n2) and (n1 > n3):\n",
    "    print(\"O primeiro número é maior,\", n1)\n",
    "elif(n2 > n1) and (n2 > n3):\n",
    "     print(\"O segundo número é maior,\", n2)\n",
    "elif(n1 == n2) and (n1 == n3):\n",
    "     print(\"Números iguais\")\n",
    "elif(n1 == n2) or (n1 == c) or (b == c):\n",
    "     print(\"Dois valores são iguais\")\n",
    "else:\n",
    "    print(\"O terceiro número e maior,\", n3)"
   ]
  },
  {
   "cell_type": "code",
   "execution_count": 40,
   "metadata": {},
   "outputs": [
    {
     "name": "stdout",
     "output_type": "stream",
     "text": [
      "Sua média é maior ou igual a 7\n"
     ]
    }
   ],
   "source": [
    "# Ex 3\n",
    "\n",
    "nota1 = float(input(\"Insira sua nota: \"))\n",
    "nota2 = float(input(\"Insira sua nota: \"))\n",
    "nota3 = float(input(\"Insira sua nota: \"))\n",
    "media = (nota1 + nota2 + nota3) / 3\n",
    "\n",
    "if media >= 7:\n",
    "    print(\"Sua média é maior ou igual a 7\")\n",
    "else:\n",
    "    print(\"Sua média é menor que 7\")"
   ]
  },
  {
   "cell_type": "code",
   "execution_count": 27,
   "metadata": {},
   "outputs": [
    {
     "name": "stdout",
     "output_type": "stream",
     "text": [
      "Média ou presença insuficiente\n"
     ]
    }
   ],
   "source": [
    "# Ex 4\n",
    "\n",
    "nota1 = int(input(\"Insira sua nota: \"))\n",
    "nota2 = int(input(\"Insira sua nota: \"))\n",
    "nota3 = int(input(\"Insira sua nota: \"))\n",
    "presenca = int(input(\"Porcentagem da presença: \"))\n",
    "media = (nota1 + nota2 + nota3) / 3\n",
    "\n",
    "if (media >= 7) and (presenca >= 75):\n",
    "    print(\"Sua média é maior ou igual a 7 e sua presença é 75\")\n",
    "else:\n",
    "    print(\"Média ou presença insuficiente\")"
   ]
  },
  {
   "cell_type": "code",
   "execution_count": 44,
   "metadata": {},
   "outputs": [
    {
     "name": "stdout",
     "output_type": "stream",
     "text": [
      "Multa de 50 reais\n"
     ]
    }
   ],
   "source": [
    "velocidade = int(input(\"vel do carro: \"))\n",
    "multa = (velocidade - 80) * 5\n",
    "\n",
    "if velocidade > 80:\n",
    "    print(\"Multa de\", multa, \"reais\")\n",
    "else:\n",
    "    print(\"Sem multas\")"
   ]
  },
  {
   "cell_type": "code",
   "execution_count": 59,
   "metadata": {},
   "outputs": [
    {
     "name": "stdout",
     "output_type": "stream",
     "text": [
      "Adolescente\n"
     ]
    }
   ],
   "source": [
    "idade = int(input(\"Informe a sua idade: \"))\n",
    "\n",
    "if idade < 12:\n",
    "    print(\"Criança\")\n",
    "elif 12 < idade <= 18:\n",
    "    print(\"Adolescente\")\n",
    "elif (idade >=18) and (idade < 65):\n",
    "    print(\"Adulto\")\n",
    "else:\n",
    "    print(\"Idoso\")"
   ]
  },
  {
   "cell_type": "code",
   "execution_count": 54,
   "metadata": {},
   "outputs": [
    {
     "name": "stdout",
     "output_type": "stream",
     "text": [
      "Número impar\n"
     ]
    }
   ],
   "source": [
    "numero = int(input(\"Insira um número: \"))\n",
    "\n",
    "if numero % 2 == 0:\n",
    "    print(\"Número par\")\n",
    "else:\n",
    "    print(\"Número impar\") \n"
   ]
  },
  {
   "cell_type": "code",
   "execution_count": 5,
   "metadata": {},
   "outputs": [
    {
     "name": "stdout",
     "output_type": "stream",
     "text": [
      "Dia útil\n"
     ]
    }
   ],
   "source": [
    "dia = str(input(\"Informe o dia da semana: \"))\n",
    "\n",
    "# lista = [\"segunda\", \"terça\", \"quarta\", \"quinta\", \"sexta\", \"sábado\", \"domingo\"]\n",
    "\n",
    "\n",
    "if dia == \"sábado\":\n",
    "    print(\"Dia de Balada\")\n",
    "\n",
    "elif dia == \"domingo\":\n",
    "    print(\"Dia de assistir netflix\")\n",
    "else:\n",
    "    print(\"Dia útil\")\n"
   ]
  },
  {
   "cell_type": "code",
   "execution_count": 8,
   "metadata": {},
   "outputs": [
    {
     "name": "stdout",
     "output_type": "stream",
     "text": [
      "Dia útil\n"
     ]
    }
   ],
   "source": [
    "dia = str(input(\"Informe o dia da semana: \"))\n",
    "\n",
    "lista = [\"segunda\", \"terça\", \"quarta\", \"quinta\", \"sexta\", \"sábado\", \"domingo\"]\n",
    "\n",
    "if dia in lista:\n",
    "    print(\"Dia útil\")\n",
    "else:\n",
    "    print(\"teste\")\n"
   ]
  },
  {
   "cell_type": "code",
   "execution_count": 7,
   "metadata": {},
   "outputs": [
    {
     "name": "stdout",
     "output_type": "stream",
     "text": [
      "A letra a está na palavra banana\n"
     ]
    }
   ],
   "source": [
    "# Operador in ou not in\n",
    "# f = format\n",
    "\n",
    "letra = str(input(\"Digite uma letra:\"))\n",
    "palavra = str(input(\"Digite uma palavra:\"))\n",
    "\n",
    "if letra in palavra:\n",
    "    print(f\"A letra {letra} está na palavra {palavra}\")\n",
    "else:\n",
    "    print(f\"A letra {letra} não está na palavra {palavra}\")\n",
    "    "
   ]
  },
  {
   "cell_type": "code",
   "execution_count": 16,
   "metadata": {},
   "outputs": [
    {
     "name": "stdout",
     "output_type": "stream",
     "text": [
      "5.0\n"
     ]
    }
   ],
   "source": [
    "#Calculadora\n",
    "\n",
    "num1 = float(input(\"Número: \"))\n",
    "num2 = float(input(\"Número: \"))\n",
    "operador = str(input(\"Escolha um operador: + - * /\"))\n",
    "\n",
    "if operador == \"+\":\n",
    "    soma = num1 + num2\n",
    "    print(soma)\n",
    "elif operador == \"-\":\n",
    "    sub = num1 - num2\n",
    "    print(sub)\n",
    "elif operador == \"*\":\n",
    "    mult = num1 * num2\n",
    "    print(mult)\n",
    "else:\n",
    "    mult = num1 / num2\n",
    "    print(mult)\n",
    "\n"
   ]
  }
 ],
 "metadata": {
  "kernelspec": {
   "display_name": "Python 3",
   "language": "python",
   "name": "python3"
  },
  "language_info": {
   "codemirror_mode": {
    "name": "ipython",
    "version": 3
   },
   "file_extension": ".py",
   "mimetype": "text/x-python",
   "name": "python",
   "nbconvert_exporter": "python",
   "pygments_lexer": "ipython3",
   "version": "3.11.4"
  },
  "orig_nbformat": 4
 },
 "nbformat": 4,
 "nbformat_minor": 2
}
