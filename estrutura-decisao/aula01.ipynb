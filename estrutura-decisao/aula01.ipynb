{
 "cells": [
  {
   "cell_type": "code",
   "execution_count": 10,
   "metadata": {},
   "outputs": [
    {
     "name": "stdout",
     "output_type": "stream",
     "text": [
      "B é maior\n"
     ]
    }
   ],
   "source": [
    "# Estrutura 1\n",
    "\n",
    "#variaveis de entrada\n",
    "\n",
    "a = 1\n",
    "b = 50\n",
    "\n",
    "#Processo - com if else\n",
    "\n",
    "if a >  b:\n",
    "    print('A e maior')\n",
    "elif a == b:\n",
    "    print('Valores são iguais')\n",
    "else:\n",
    "    print('B é maior')"
   ]
  },
  {
   "cell_type": "code",
   "execution_count": 11,
   "metadata": {},
   "outputs": [
    {
     "name": "stdout",
     "output_type": "stream",
     "text": [
      "B é duas vezes maior do que A\n"
     ]
    }
   ],
   "source": [
    "#Estrutura 2\n",
    "\n",
    "a = int(input('Digite o valor de a: '))\n",
    "b = int(input('Digite o valor de b: '))\n",
    "\n",
    "if a > b:\n",
    "    print('A é maior')\n",
    "elif a == b:\n",
    "    print('São iguais')\n",
    "elif (a == 5) & (b == 10):\n",
    "    print(\"B é duas vezes maior do que A\")\n",
    "else:\n",
    "    print('B é maior')"
   ]
  },
  {
   "cell_type": "code",
   "execution_count": 17,
   "metadata": {},
   "outputs": [
    {
     "name": "stdout",
     "output_type": "stream",
     "text": [
      "33\n",
      "-30\n",
      "0.575\n",
      "13.225\n",
      "529\n"
     ]
    }
   ],
   "source": [
    "var_1 = int(input('Digite um valor: '))\n",
    "var_2 = int(input('Digite um valor: '))\n",
    "var_3 = int(input('Digite um valor: '))\n",
    "\n",
    "resultado_1 = var_1 + var_2 \n",
    "resultado_2 = var_1 - var_3 \n",
    "resultado_3 = var_2 / var_3\n",
    "resultado_4 = resultado_3 * var_2 \n",
    "resultado_5 = var_2**2\n",
    "\n",
    "print(resultado_1)\n",
    "print(resultado_2)\n",
    "print(resultado_3)\n",
    "print(resultado_4)\n",
    "print(resultado_5)"
   ]
  },
  {
   "cell_type": "code",
   "execution_count": 9,
   "metadata": {},
   "outputs": [
    {
     "name": "stdout",
     "output_type": "stream",
     "text": [
      "ab\n"
     ]
    }
   ],
   "source": [
    "var_a = 'a'\n",
    "var_b = 'b'\n",
    "\n",
    "resultado_ab = var_a + var_b \n",
    "\n",
    "print (resultado_ab)"
   ]
  },
  {
   "cell_type": "code",
   "execution_count": 14,
   "metadata": {},
   "outputs": [
    {
     "name": "stdout",
     "output_type": "stream",
     "text": [
      "O valor em mm é: 90000 mm\n"
     ]
    }
   ],
   "source": [
    "#exercicio 1\n",
    "\n",
    "valor = int (input('Digite um valor em metros: '))\n",
    "\n",
    "conversao = valor*1000\n",
    "\n",
    "print('O valor em mm é:',conversao,'mm')"
   ]
  },
  {
   "cell_type": "code",
   "execution_count": 21,
   "metadata": {},
   "outputs": [
    {
     "name": "stdout",
     "output_type": "stream",
     "text": [
      "A quantidade de segundos é 86400\n"
     ]
    }
   ],
   "source": [
    "#exercicio 2\n",
    "\n",
    "dias = int(input('Digite a quantidade de dias: '))\n",
    "horas = int(input('Digite as horas: '))\n",
    "minutos = int(input('Digite os minutos: '))\n",
    "segundos = int(input('Digite os segundos: '))\n",
    "\n",
    "\n",
    "# total_hora = dias * 24\n",
    "# total_minuto = total_hora * 60\n",
    "# total_segundos = (total_minuto * 60) + segundos\n",
    "\n",
    "\n",
    "total_segundos = (dias * 24 * 60 * 60) + (horas * 60 * 60) + (minutos * 60) + segundos\n",
    "\n",
    "print('A quantidade de segundos é:', total_segundos,'s')\n"
   ]
  },
  {
   "cell_type": "code",
   "execution_count": 28,
   "metadata": {},
   "outputs": [
    {
     "name": "stdout",
     "output_type": "stream",
     "text": [
      "9.0\n",
      "O valor do desconto é de R$ 1.0\n"
     ]
    }
   ],
   "source": [
    "#exercicio 3\n",
    "\n",
    "preco = float(input('Digite o preço da mercadoria: '))\n",
    "desconto = int(input('Insira o percentual de desconto: '))\n",
    "\n",
    "preco_desconto = (preco * desconto) / 100\n",
    "preco_total = preco - preco_desconto\n",
    "\n",
    "print(preco_total)\n",
    "print('O valor do desconto é de R$',preco_desconto)"
   ]
  },
  {
   "cell_type": "code",
   "execution_count": 30,
   "metadata": {},
   "outputs": [
    {
     "name": "stdout",
     "output_type": "stream",
     "text": [
      "5.666666666666667\n"
     ]
    }
   ],
   "source": [
    "#exercicio 4\n",
    "\n",
    "distancia_percorrer = int(input('Digite a distância a percorrer: '))\n",
    "vm = int(input('Digite a distância a percorrer: '))\n",
    "\n",
    "tempo = distancia_percorrer / vm\n",
    "\n",
    "print(tempo, 'horas')\n",
    "\n"
   ]
  },
  {
   "cell_type": "code",
   "execution_count": 38,
   "metadata": {},
   "outputs": [
    {
     "name": "stdout",
     "output_type": "stream",
     "text": [
      "Potência em watts 67.0\n",
      "Potência em watts 300763\n",
      "Potência em watts 0.014925373134328358\n"
     ]
    }
   ],
   "source": [
    "#exercicio 5\n",
    "\n",
    "v = float(input('Insira tensão V: '))\n",
    "i = int(input('Insira tensão I: '))\n",
    "r = int(input('Insira tensão R: '))\n",
    "\n",
    "eq_1 = v * i\n",
    "eq_2 = r * i * i\n",
    "eq_3 = v **2 / r\n",
    "\n",
    "print('Potência em watts', eq_1)\n",
    "print('Potência em watts', eq_2)\n",
    "print('Potência em watts', eq_3)\n"
   ]
  },
  {
   "cell_type": "code",
   "execution_count": 31,
   "metadata": {},
   "outputs": [
    {
     "name": "stdout",
     "output_type": "stream",
     "text": [
      "O preço total do aluguel do carro é R$ 180.75\n"
     ]
    }
   ],
   "source": [
    "#exercicio 6\n",
    "\n",
    "km_rodados = int(input('Insira a quantidade de km percorridos: '))\n",
    "dias_alugados = int(input('Insira a quantidade de dias pelos quais o carro foi alugado: '))\n",
    "\n",
    "preco_total = (dias_alugados * 60) + (km_rodados * 0.15)\n",
    "\n",
    "print('O preço total do aluguel do carro é R$', preco_total)\n"
   ]
  }
 ],
 "metadata": {
  "kernelspec": {
   "display_name": "Python 3",
   "language": "python",
   "name": "python3"
  },
  "language_info": {
   "codemirror_mode": {
    "name": "ipython",
    "version": 3
   },
   "file_extension": ".py",
   "mimetype": "text/x-python",
   "name": "python",
   "nbconvert_exporter": "python",
   "pygments_lexer": "ipython3",
   "version": "3.11.4"
  },
  "orig_nbformat": 4
 },
 "nbformat": 4,
 "nbformat_minor": 2
}
