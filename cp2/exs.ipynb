{
 "cells": [
  {
   "cell_type": "code",
   "execution_count": 44,
   "metadata": {},
   "outputs": [
    {
     "name": "stdout",
     "output_type": "stream",
     "text": [
      "[500, 1000, 1500, 2000, 2500]\n",
      "[0.016666666666666666, 0.03333333333333333, 0.05, 0.06666666666666667, 0.08333333333333333]\n"
     ]
    }
   ],
   "source": [
    "forca = []\n",
    "massa = []\n",
    "\n",
    "f = massa * 300000\n",
    "\n",
    "for i in range(500, 3000, 500):\n",
    "    forca.append(i)\n",
    "\n",
    "print(forca)\n",
    "\n",
    " \n",
    "for j in forca:\n",
    "    valor =  j / 30000\n",
    "    # print(valor)\n",
    "    massa.append(valor)\n",
    "print(massa)"
   ]
  },
  {
   "cell_type": "code",
   "execution_count": 6,
   "metadata": {},
   "outputs": [
    {
     "name": "stdout",
     "output_type": "stream",
     "text": [
      "Lista de Nomes: ['camila', 'ssdf', 'sfs', 'df']\n",
      "Lista de CPF: [234, 345, 445, 565]\n"
     ]
    },
    {
     "data": {
      "text/plain": [
       "4"
      ]
     },
     "execution_count": 6,
     "metadata": {},
     "output_type": "execute_result"
    }
   ],
   "source": [
    "nomes = []\n",
    "cpfs = []\n",
    "c = 1\n",
    "\n",
    "while c <= 4:\n",
    "    nome = str(input(\"Digite seu nome\")) \n",
    "    cpf = int(input(\"Digite seu cpf\")) \n",
    "    c += 1\n",
    "\n",
    "    nomes.append(nome)\n",
    "    cpfs.append(cpf)\n",
    "\n",
    "print(f'Lista de Nomes: {nomes}')\n",
    "print(f'Lista de CPF: {cpfs}')\n",
    "\n"
   ]
  },
  {
   "cell_type": "code",
   "execution_count": 26,
   "metadata": {},
   "outputs": [
    {
     "name": "stdout",
     "output_type": "stream",
     "text": [
      "Desconto de 10% = [1620.0]\n",
      "Desconto de 20% = [2000.0, 2560.0]\n",
      "Desconto de 30% = [2940.0, 3500.0]\n"
     ]
    }
   ],
   "source": [
    "#Salario liquido\n",
    "\n",
    "# ate 2000 = descnt 10%\n",
    "# > 2000 e até 4000 = descnt 20%\n",
    "# > 4000 = descnt 30%\n",
    "\n",
    "salarios = [1800, 2500, 3200, 4200, 5000]\n",
    "\n",
    "salario_10 = []\n",
    "salario_20 = []\n",
    "salario_30 = []\n",
    "\n",
    "for i in salarios:\n",
    "    if i <= 2000:\n",
    "        desconto = i * 10 / 100\n",
    "        desconto_final = i - desconto\n",
    "\n",
    "        salario_10.append(desconto_final)\n",
    "     \n",
    "\n",
    "    elif i > 2000 and i <= 4000:\n",
    "        desconto = i * 20 / 100\n",
    "        desconto_final = i - desconto\n",
    "\n",
    "        salario_20.append(desconto_final)\n",
    "     \n",
    "    else:\n",
    "        desconto = i * 30 / 100\n",
    "        desconto_final = i - desconto\n",
    "        salario_30.append(desconto_final)\n",
    "        \n",
    "print(f'Desconto de 10% = {salario_10}')\n",
    "print(f'Desconto de 20% = {salario_20}')\n",
    "print(f'Desconto de 30% = {salario_30}')\n"
   ]
  },
  {
   "cell_type": "code",
   "execution_count": 4,
   "metadata": {},
   "outputs": [
    {
     "name": "stdout",
     "output_type": "stream",
     "text": [
      "24\n",
      "14\n",
      "[24.0, 24.0, 13.999999999999998, 13.999999999999998]\n"
     ]
    }
   ],
   "source": [
    "\n",
    "conta = []\n",
    "\n",
    "for i in range (2):\n",
    "    peso = int(input('peso'))\n",
    "    alt = int(input('altura'))\n",
    "    # contaIMC = peso / alt * alt\n",
    "\n",
    "    for c in range (2):\n",
    "        contaIMC = peso / alt * alt\n",
    "        conta.append(contaIMC)\n",
    "        \n",
    "\n",
    "\n",
    "    print(peso)\n",
    "print(conta)"
   ]
  },
  {
   "cell_type": "code",
   "execution_count": 5,
   "metadata": {},
   "outputs": [
    {
     "name": "stdout",
     "output_type": "stream",
     "text": [
      "Usuario 1:\n",
      "[12, 123, 12, 123, 234]\n",
      "Usuario 2:\n",
      "[323, 34, 234, 235, 32]\n",
      "Total da compra Usuario 1 = 504\n",
      "Total da compra Usuario 2 = 858\n",
      "Média User 1: 100.8\n",
      "Média User 2: 171.6\n",
      "5\n"
     ]
    }
   ],
   "source": [
    "# Programa de Compras em uma Loja de Jogos - Neste programa, você será solicitado a inserir os valores de 5 produtos diferentes para dois usuários em uma loja de jogos. O programa calculará e exibirá o valor total das compras de cada usuário, bem como o valor médio das compras de cada um.\n",
    "\n",
    "user1 = []\n",
    "user2 = []\n",
    "\n",
    "\n",
    "print(\"Usuario 1:\")\n",
    "\n",
    "for i in range(5):\n",
    "    user1_produto = int(input(\"Insira o valor do produto:\"))\n",
    "    user1.append(user1_produto)\n",
    "print(user1)\n",
    "\n",
    "print(\"Usuario 2:\")\n",
    "\n",
    "for i in range(5):\n",
    "    user2_produto = int(input(\"Insira o valor do produto:\"))\n",
    "    user2.append(user2_produto)\n",
    "print(user2, '\\n')\n",
    "\n",
    "\n",
    "soma_1 = 0\n",
    "soma_2 = 0\n",
    "\n",
    "for i in user1:\n",
    "    soma_1 += i\n",
    "\n",
    "\n",
    "for i in user2:\n",
    "    soma_2 += i\n",
    "\n",
    "print(f'Total da compra Usuario 1 = {soma_1}')\n",
    "print(f'Total da compra Usuario 2 = {soma_2}')\n",
    "\n",
    "quantidade = (len(user2))\n",
    "media_2 = soma_2 / quantidade\n",
    "media_1 = soma_1 / quantidade\n",
    "\n",
    "print(f'Média User 1: {media_1}')\n",
    "print(f'Média User 2: {media_2}')\n",
    "\n",
    "\n"
   ]
  },
  {
   "cell_type": "code",
   "execution_count": 31,
   "metadata": {},
   "outputs": [
    {
     "name": "stdout",
     "output_type": "stream",
     "text": [
      "['monitor', 'ssd', 'sf', 'dfg', 'dfg']\n",
      "monitor 1\n",
      "ssd 2\n",
      "A loja não possui o produto\n",
      "A loja não possui o produto\n",
      "A loja não possui o produto\n"
     ]
    }
   ],
   "source": [
    "#  Você está criando um programa para registrar as compras em uma loja de computadores. Primeiro, você solicitará ao usuário que insira 5 produtos adquiridos. Em seguida, usando uma estrutura de repetição com while, você criará uma lista e inserirá esses produtos nela.\n",
    "  \n",
    "# lista_produtos = [‘notebook', ‘ssd', ‘mouse', ‘teclado', ‘monitor']\n",
    "  \n",
    "# Depois, você verificará se os produtos digitados estão dentro da lista de produtos da loja. Para isso, você usará uma estrutura de repetição for. Em seguida, você contará a quantidade de cada tipo de produto digitado pelo usuário. \n",
    "\n",
    "\n",
    "lista_produtos = ['notebook', 'ssd', 'mouse', 'teclado', 'monitor']\n",
    "  \n",
    "c = 1\n",
    "user_produtos = []\n",
    "\n",
    "while c <= 5:\n",
    "    user = str(input(\"Insira o produto adquirido\"))\n",
    "    c += 1\n",
    "    user_produtos.append(user)\n",
    "print(user_produtos)\n",
    "\n",
    "soma = 0\n",
    "\n",
    "# while\n",
    "\n",
    "\n",
    "for i in user_produtos:\n",
    "    if i == 'notebook':\n",
    "        soma += 1\n",
    "        print('notebook', soma)\n",
    "    elif i == 'ssd':\n",
    "        soma += 1\n",
    "        print('ssd', soma)\n",
    "    elif i == 'mouse':\n",
    "        soma += 1\n",
    "        print(soma)\n",
    "    elif i == 'teclado':\n",
    "        soma += 1\n",
    "        print('teclado', soma)\n",
    "    elif i == 'monitor':\n",
    "        soma += 1\n",
    "        print('monitor', soma)\n",
    "    else:\n",
    "        print(\"A loja não possui o produto\")\n"
   ]
  }
 ],
 "metadata": {
  "kernelspec": {
   "display_name": "Python 3",
   "language": "python",
   "name": "python3"
  },
  "language_info": {
   "codemirror_mode": {
    "name": "ipython",
    "version": 3
   },
   "file_extension": ".py",
   "mimetype": "text/x-python",
   "name": "python",
   "nbconvert_exporter": "python",
   "pygments_lexer": "ipython3",
   "version": "3.11.4"
  },
  "orig_nbformat": 4
 },
 "nbformat": 4,
 "nbformat_minor": 2
}
