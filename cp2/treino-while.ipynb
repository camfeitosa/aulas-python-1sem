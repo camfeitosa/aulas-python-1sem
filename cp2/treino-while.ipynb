{
 "cells": [
  {
   "cell_type": "code",
   "execution_count": 1,
   "metadata": {},
   "outputs": [
    {
     "name": "stdout",
     "output_type": "stream",
     "text": [
      "1\n",
      "2\n",
      "3\n",
      "4\n",
      "5\n",
      "6\n",
      "7\n",
      "8\n",
      "9\n",
      "fim\n"
     ]
    }
   ],
   "source": [
    "#while - quando não sabe a quantidade de 'passos' / limite\n",
    "# Sai quando a condição se torna fácil\n",
    "\n",
    "# for c in range(1, 10):\n",
    "#   print(c)\n",
    "# print(\"Fim\")\n",
    "\n",
    "\n",
    "#sabendo o limite = For ou While\n",
    "c = 1 \n",
    "while c < 10:\n",
    "  print(c)\n",
    "  c+=1\n",
    "print(\"fim\")\n",
    "\n"
   ]
  },
  {
   "cell_type": "code",
   "execution_count": 10,
   "metadata": {},
   "outputs": [
    {
     "name": "stdout",
     "output_type": "stream",
     "text": [
      "Fim\n"
     ]
    }
   ],
   "source": [
    "#não sabendo o limite = WHILE\n",
    "# n = 1\n",
    "# while != 0:\n",
    "#   n = int(input(\"Digite um valor\"))\n",
    "# print(\"fim\")\n",
    "\n",
    "r = 'S'\n",
    "while r == 'S':\n",
    "  n = int(input(\"Digite um valor: \"))\n",
    "  r = str(input(\"Quer continuar? [S/N]\")).upper()\n",
    "print(\"Fim\")\n"
   ]
  },
  {
   "cell_type": "code",
   "execution_count": null,
   "metadata": {},
   "outputs": [
    {
     "name": "stdout",
     "output_type": "stream",
     "text": [
      "Par: 3, impar: 3\n"
     ]
    }
   ],
   "source": [
    "n = 1\n",
    "par = impar = 0\n",
    "\n",
    "while n != 0:\n",
    "  n = int(input(\"Digite: \"))\n",
    "  if n != 0:\n",
    "    if n % 2 == 0:\n",
    "      par += 1\n",
    "    else:\n",
    "      impar += 1\n",
    "    \n",
    "print(f'Par: {par}, impar: {impar}')"
   ]
  },
  {
   "cell_type": "code",
   "execution_count": null,
   "metadata": {},
   "outputs": [],
   "source": [
    "sexo = \"indefinido\"\n",
    "\n",
    "while sexo != \"M\" or sexo != 'S':\n",
    "  sexo = str(input(\"Digite seu sexo [F/M]\")).upper\n",
    "  if sexo == \"M\":\n",
    "    print('Sexo masculino')\n",
    "  elif sexo == \"S\":\n",
    "    print(\"Sexo Feminino\")\n",
    "  else:\n",
    "    sexo = str(input(\"Digite seu sexo [F/M]\"))\n",
    "\n",
    "print(\"Fim\")"
   ]
  },
  {
   "cell_type": "code",
   "execution_count": null,
   "metadata": {},
   "outputs": [],
   "source": [
    "n = 5\n",
    "\n",
    "while n != 5:\n",
    "  int(input('Numero de 1 a 10'))"
   ]
  },
  {
   "cell_type": "code",
   "execution_count": null,
   "metadata": {},
   "outputs": [],
   "source": []
  },
  {
   "cell_type": "code",
   "execution_count": 8,
   "metadata": {},
   "outputs": [
    {
     "name": "stdout",
     "output_type": "stream",
     "text": [
      "D\n",
      "Sexo F\n"
     ]
    }
   ],
   "source": [
    "sexo = str(input(\"Digite seu sexo [F/M]\")).strip().upper()[0]\n",
    "print(sexo)\n",
    "\n",
    "while sexo not in 'MF':\n",
    "  sexo = str(input(\"Digite seu sexo [F/M]\")).strip().upper()[0]\n",
    "print(f\"Sexo {sexo}\")\n"
   ]
  },
  {
   "cell_type": "code",
   "execution_count": null,
   "metadata": {},
   "outputs": [],
   "source": []
  }
 ],
 "metadata": {
  "kernelspec": {
   "display_name": "Python 3",
   "language": "python",
   "name": "python3"
  },
  "language_info": {
   "codemirror_mode": {
    "name": "ipython",
    "version": 3
   },
   "file_extension": ".py",
   "mimetype": "text/x-python",
   "name": "python",
   "nbconvert_exporter": "python",
   "pygments_lexer": "ipython3",
   "version": "3.11.9"
  }
 },
 "nbformat": 4,
 "nbformat_minor": 2
}
