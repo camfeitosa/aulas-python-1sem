{
 "cells": [
  {
   "cell_type": "code",
   "execution_count": 1,
   "metadata": {},
   "outputs": [
    {
     "name": "stdout",
     "output_type": "stream",
     "text": [
      "1\n",
      "2\n",
      "3\n",
      "4\n",
      "5\n",
      "6\n",
      "7\n",
      "8\n",
      "9\n",
      "fim\n"
     ]
    }
   ],
   "source": [
    "#while - quando não sabe a quantidade de 'passos' / limite\n",
    "# Sai quando a condição se torna verdadeira\n",
    "\n",
    "# for c in range(1, 10):\n",
    "# print(c)\n",
    "# print(\"Fim\")\n",
    "\n",
    "\n",
    "#sabendo o limite = For ou While\n",
    "c = 1 \n",
    "while c < 10:\n",
    "  print(c)\n",
    "  c+=1\n",
    "print(\"fim\")\n",
    "\n"
   ]
  },
  {
   "cell_type": "code",
   "execution_count": 10,
   "metadata": {},
   "outputs": [
    {
     "name": "stdout",
     "output_type": "stream",
     "text": [
      "Fim\n"
     ]
    }
   ],
   "source": [
    "#não sabendo o limite = WHILE\n",
    "# n = 1\n",
    "# while != 0:\n",
    "#   n = int(input(\"Digite um valor\"))\n",
    "# print(\"fim\")\n",
    "\n",
    "r = 'S'\n",
    "while r == 'S':\n",
    "  n = int(input(\"Digite um valor: \"))\n",
    "  r = str(input(\"Quer continuar? [S/N]\")).upper()\n",
    "print(\"Fim\")\n"
   ]
  },
  {
   "cell_type": "code",
   "execution_count": null,
   "metadata": {},
   "outputs": [
    {
     "name": "stdout",
     "output_type": "stream",
     "text": [
      "Par: 3, impar: 3\n"
     ]
    }
   ],
   "source": [
    "n = 1\n",
    "par = impar = 0\n",
    "\n",
    "while n != 0:\n",
    "  n = int(input(\"Digite: \"))\n",
    "  if n != 0:\n",
    "    if n % 2 == 0:\n",
    "      par += 1\n",
    "    else:\n",
    "      impar += 1\n",
    "    \n",
    "print(f'Par: {par}, impar: {impar}')"
   ]
  },
  {
   "cell_type": "code",
   "execution_count": null,
   "metadata": {},
   "outputs": [],
   "source": [
    "sexo = \"indefinido\"\n",
    "\n",
    "while sexo != \"M\" or sexo != 'S':\n",
    "  sexo = str(input(\"Digite seu sexo [F/M]\")).upper\n",
    "  if sexo == \"M\":\n",
    "    print('Sexo masculino')\n",
    "  elif sexo == \"S\":\n",
    "    print(\"Sexo Feminino\")\n",
    "  else:\n",
    "    sexo = str(input(\"Digite seu sexo [F/M]\"))\n",
    "\n",
    "print(\"Fim\")"
   ]
  },
  {
   "cell_type": "code",
   "execution_count": null,
   "metadata": {},
   "outputs": [],
   "source": [
    "n = 5\n",
    "\n",
    "while n != 5:\n",
    "  int(input('Numero de 1 a 10'))"
   ]
  },
  {
   "cell_type": "code",
   "execution_count": null,
   "metadata": {},
   "outputs": [],
   "source": []
  },
  {
   "cell_type": "code",
   "execution_count": 8,
   "metadata": {},
   "outputs": [
    {
     "name": "stdout",
     "output_type": "stream",
     "text": [
      "D\n",
      "Sexo F\n"
     ]
    }
   ],
   "source": [
    "sexo = str(input(\"Digite seu sexo [F/M]\")).strip().upper()[0]\n",
    "print(sexo)\n",
    "\n",
    "while sexo not in 'MF':\n",
    "  sexo = str(input(\"Digite seu sexo [F/M]\")).strip().upper()[0]\n",
    "print(f\"Sexo {sexo}\")\n"
   ]
  },
  {
   "cell_type": "code",
   "execution_count": 10,
   "metadata": {},
   "outputs": [
    {
     "name": "stdout",
     "output_type": "stream",
     "text": [
      "10\n"
     ]
    }
   ],
   "source": [
    "soma = 0\n",
    "i = 1\n",
    "\n",
    "while i < 5:\n",
    "    soma += i\n",
    "    i+=1\n",
    "print(soma)\n"
   ]
  },
  {
   "cell_type": "code",
   "execution_count": 6,
   "metadata": {},
   "outputs": [
    {
     "name": "stdout",
     "output_type": "stream",
     "text": [
      "Nome: camila CPF: 254\n",
      "Nome: xasid CPF: 2343\n",
      "Nome: dweh CPF: 34\n",
      "['camila', 'xasid', 'dweh']\n",
      "[254, 2343, 34]\n"
     ]
    }
   ],
   "source": [
    "\n",
    "lista_nomes = []\n",
    "lista_cpfs = []\n",
    "c = 1\n",
    "\n",
    "# enquanto c for menor ou igual a dois  \n",
    "\n",
    "while c <= 2:\n",
    "    nome = str(input(\"Insira seu nome\"))\n",
    "    cpf = int(input(\"Insira seu CPF\"))\n",
    "    print(f'Nome: {nome} CPF: {cpf}')\n",
    "    lista_nomes.append(nome)\n",
    "    lista_cpfs.append(cpf)\n",
    "\n",
    "    c += 1\n",
    "    \n",
    "\n",
    "print(lista_nomes)\n",
    "print(lista_cpfs)"
   ]
  },
  {
   "cell_type": "code",
   "execution_count": 20,
   "metadata": {},
   "outputs": [
    {
     "name": "stdout",
     "output_type": "stream",
     "text": [
      "Nome: camila CPF: 1232433\n",
      "Nome: murilo CPF: 1123425435\n",
      "['camila', 'murilo']\n",
      "[1232433, 1123425435]\n"
     ]
    }
   ],
   "source": [
    "lista_nomes = []\n",
    "lista_cpfs = []\n",
    "\n",
    "for i in range(2):\n",
    "    nome = str(input(\"Insira seu nome\"))\n",
    "    cpf = int(input(\"Insira seu CPF\"))\n",
    "    print(f'Nome: {nome} CPF: {cpf}')\n",
    "    \n",
    "    lista_nomes.append(nome)\n",
    "    lista_cpfs.append(cpf)\n",
    "\n",
    "print(lista_nomes)\n",
    "print(lista_cpfs)"
   ]
  },
  {
   "cell_type": "code",
   "execution_count": 21,
   "metadata": {},
   "outputs": [
    {
     "name": "stdout",
     "output_type": "stream",
     "text": [
      "['camila']\n"
     ]
    }
   ],
   "source": [
    "lista = []\n",
    "\n",
    "nome = str(input(\"Insira seu nome\"))\n",
    "lista.append(nome)\n",
    "print(lista)"
   ]
  },
  {
   "cell_type": "code",
   "execution_count": 53,
   "metadata": {},
   "outputs": [
    {
     "name": "stdout",
     "output_type": "stream",
     "text": [
      "18\n",
      "[1, 10, 3, 4]\n",
      "['a', 'b', '20']\n"
     ]
    }
   ],
   "source": [
    "lista = [1, 'a', 10, 'b', '20', 3, 4]\n",
    "lista_num = []\n",
    "lista_letra = []\n",
    "\n",
    "for j in lista:\n",
    "    if type(j) == str:\n",
    "        lista_letra.append(j)\n",
    "    else:\n",
    "        lista_num.append(j)\n",
    "\n",
    "soma = 0\n",
    "\n",
    "for item in lista_num:\n",
    "    soma += item\n",
    "print(soma)\n",
    "\n",
    "print(lista_num)\n",
    "print(lista_letra)\n",
    "\n"
   ]
  },
  {
   "cell_type": "code",
   "execution_count": 76,
   "metadata": {},
   "outputs": [
    {
     "name": "stdout",
     "output_type": "stream",
     "text": [
      "Par [10, 24, 12, 20]\n",
      "Impar [13, 25, 33, 35, 7]\n",
      "A soma dos pares é 66\n",
      "A soma dos ímpares é 113\n",
      "Pares = 66\n",
      "Ímpares = 113\n"
     ]
    }
   ],
   "source": [
    "lista = [10, 13, 24, 25, 33, 12, 35, 7, 20]\n",
    "par = []\n",
    "impar = []\n",
    "soma_p = 0 \n",
    "soma_i = 0\n",
    "\n",
    "for i in lista:\n",
    "    if i % 2 == 0:\n",
    "        par.append(i)\n",
    "        soma_p += i\n",
    "\n",
    "    else:\n",
    "        impar.append(i)\n",
    "        soma_i += i\n",
    "\n",
    "print(f'Par {par}')\n",
    "print(f'Impar {impar}')\n",
    "\n",
    "print(f'A soma dos pares é {soma_p}')\n",
    "print(f'A soma dos ímpares é {soma_i}')\n",
    "\n",
    "\n",
    "soma = 0\n",
    "soma_i = 0\n",
    "\n",
    "for i in par:\n",
    "    soma += i\n",
    "print(f'Pares = {soma}')\n",
    "\n",
    "for i in impar:\n",
    "    soma_i += i\n",
    "print(f'Ímpares = {soma_i}')\n"
   ]
  }
 ],
 "metadata": {
  "kernelspec": {
   "display_name": "Python 3",
   "language": "python",
   "name": "python3"
  },
  "language_info": {
   "codemirror_mode": {
    "name": "ipython",
    "version": 3
   },
   "file_extension": ".py",
   "mimetype": "text/x-python",
   "name": "python",
   "nbconvert_exporter": "python",
   "pygments_lexer": "ipython3",
   "version": "3.11.4"
  }
 },
 "nbformat": 4,
 "nbformat_minor": 2
}
