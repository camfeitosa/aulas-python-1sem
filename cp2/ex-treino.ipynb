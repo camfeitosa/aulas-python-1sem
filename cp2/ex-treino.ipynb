{
 "cells": [
  {
   "cell_type": "code",
   "execution_count": 1,
   "metadata": {},
   "outputs": [
    {
     "name": "stdout",
     "output_type": "stream",
     "text": [
      "0\n",
      "2\n",
      "4\n",
      "6\n",
      "8\n",
      "10\n"
     ]
    }
   ],
   "source": [
    "# numero par\n",
    "\n",
    "for c in range(0, 11, 2):\n",
    "  print(c)\n"
   ]
  },
  {
   "cell_type": "code",
   "execution_count": 2,
   "metadata": {},
   "outputs": [
    {
     "name": "stdout",
     "output_type": "stream",
     "text": [
      "0\n",
      "1\n",
      "2\n",
      "3\n",
      "4\n",
      "5\n",
      "6\n",
      "7\n",
      "8\n",
      "9\n",
      "10\n",
      "11\n",
      "12\n",
      "13\n",
      "14\n",
      "15\n",
      "16\n",
      "17\n",
      "18\n",
      "19\n",
      "20\n",
      "21\n",
      "22\n",
      "23\n",
      "24\n",
      "25\n",
      "26\n",
      "27\n",
      "28\n",
      "29\n",
      "30\n",
      "31\n",
      "32\n",
      "33\n",
      "34\n",
      "35\n",
      "36\n",
      "FIM\n"
     ]
    }
   ],
   "source": [
    "n = int(input(\"Digite um número\"))\n",
    "\n",
    "for c in range (0, n+1):\n",
    "  print(c)\n",
    "print(\"FIM\")\n",
    "  \n"
   ]
  },
  {
   "cell_type": "code",
   "execution_count": 4,
   "metadata": {},
   "outputs": [
    {
     "name": "stdout",
     "output_type": "stream",
     "text": [
      "4\n"
     ]
    }
   ],
   "source": [
    "i = int(input(\"Inicio\"))\n",
    "f = int(input(\"Fim\"))\n",
    "p = int(input(\"Passo\"))\n",
    "\n",
    "# quero que começe em ?, termine em ?, e tenha um intervalo de ? em ?\n",
    "\n",
    "for c in range (i, f+1, p):\n",
    "  print(c)"
   ]
  },
  {
   "cell_type": "code",
   "execution_count": null,
   "metadata": {},
   "outputs": [
    {
     "name": "stdout",
     "output_type": "stream",
     "text": [
      "48\n"
     ]
    }
   ],
   "source": [
    "s = 0\n",
    "for c in range(0, 4):\n",
    "  n = int(input(\"Digite um valor: \"))\n",
    "  s = s + n #ou s += n\n",
    "print(s)"
   ]
  },
  {
   "cell_type": "code",
   "execution_count": null,
   "metadata": {},
   "outputs": [
    {
     "name": "stdout",
     "output_type": "stream",
     "text": [
      "2\n",
      "4\n",
      "6\n",
      "8\n",
      "10\n",
      "12\n",
      "14\n",
      "16\n",
      "18\n",
      "20\n",
      "22\n",
      "24\n",
      "26\n",
      "28\n",
      "30\n",
      "32\n",
      "34\n",
      "36\n",
      "38\n",
      "40\n",
      "42\n",
      "44\n",
      "46\n",
      "48\n",
      "50\n"
     ]
    }
   ],
   "source": [
    "for c in range(1, 51):\n",
    "  if c % 2 == 0:\n",
    "    print(c)"
   ]
  },
  {
   "cell_type": "code",
   "execution_count": null,
   "metadata": {},
   "outputs": [
    {
     "name": "stdout",
     "output_type": "stream",
     "text": [
      "20667\n"
     ]
    }
   ],
   "source": [
    "# números ímpares que são múltiplos de 3 entre 1 até 500\n",
    "s = 0\n",
    "\n",
    "for c in range(1, 501, 2):\n",
    "  if c % 3 == 0:\n",
    "    # print(\"Múltiplo de três: \", c)\n",
    "    s += c\n",
    "print(s)"
   ]
  },
  {
   "cell_type": "code",
   "execution_count": null,
   "metadata": {},
   "outputs": [
    {
     "name": "stdout",
     "output_type": "stream",
     "text": [
      "4\n",
      "8\n",
      "12\n",
      "16\n",
      "20\n",
      "24\n",
      "28\n",
      "32\n",
      "36\n",
      "40\n"
     ]
    }
   ],
   "source": [
    "s = 4\n",
    "for c in range(1, 11):\n",
    "   print(c*s)"
   ]
  },
  {
   "cell_type": "code",
   "execution_count": null,
   "metadata": {},
   "outputs": [
    {
     "name": "stdout",
     "output_type": "stream",
     "text": [
      "5 x 1 = 5\n",
      "5 x 2 = 10\n",
      "5 x 3 = 15\n",
      "5 x 4 = 20\n",
      "5 x 5 = 25\n",
      "5 x 6 = 30\n",
      "5 x 7 = 35\n",
      "5 x 8 = 40\n",
      "5 x 9 = 45\n",
      "5 x 10 = 50\n"
     ]
    }
   ],
   "source": [
    "n = int(input(\"Digite um número: \"))\n",
    "for c in range(1, 11):\n",
    "    print(f\"{n} x {c} = {n*c}\")\n"
   ]
  },
  {
   "cell_type": "code",
   "execution_count": null,
   "metadata": {},
   "outputs": [
    {
     "name": "stdout",
     "output_type": "stream",
     "text": [
      "2 x 10 = 20\n"
     ]
    }
   ],
   "source": [
    "num = 2\n",
    "\n",
    "for c in range (1, 11):\n",
    "  resultado = c*num\n",
    "\n",
    "  print(f\"{num} x {c} = {resultado}\")"
   ]
  },
  {
   "cell_type": "code",
   "execution_count": null,
   "metadata": {},
   "outputs": [
    {
     "name": "stdout",
     "output_type": "stream",
     "text": [
      "Soma: 282 Numeros pares: 4\n"
     ]
    }
   ],
   "source": [
    "# soma dos números pares inseridos\n",
    "\n",
    "soma = 0 \n",
    "cont = 0\n",
    "for c in range(1, 7):\n",
    "  num = int(input(\"Digite um valor\"))\n",
    "  if num % 2 == 0:\n",
    "    soma += num\n",
    "    cont += 1\n",
    "print(f\"Soma: {soma} Numeros pares: {cont}\")"
   ]
  },
  {
   "cell_type": "code",
   "execution_count": 5,
   "metadata": {},
   "outputs": [
    {
     "name": "stdout",
     "output_type": "stream",
     "text": [
      "8\n",
      "13\n",
      "18\n",
      "23\n",
      "28\n",
      "33\n",
      "38\n",
      "43\n",
      "48\n",
      "53\n"
     ]
    }
   ],
   "source": [
    "# 10 termos de uma PA\n",
    "\n",
    "termo_um = int(input(\"Digite o primeiro termo\"))\n",
    "razao = int(input(\"Digite a razão\"))\n",
    "decimo = termo_um + (10 - 1) * razao #formula da PA\n",
    "\n",
    "for c in range(termo_um, decimo + razao,razao):\n",
    "  \n",
    "  print(c)"
   ]
  }
 ],
 "metadata": {
  "kernelspec": {
   "display_name": "Python 3",
   "language": "python",
   "name": "python3"
  },
  "language_info": {
   "codemirror_mode": {
    "name": "ipython",
    "version": 3
   },
   "file_extension": ".py",
   "mimetype": "text/x-python",
   "name": "python",
   "nbconvert_exporter": "python",
   "pygments_lexer": "ipython3",
   "version": "3.11.9"
  },
  "orig_nbformat": 4
 },
 "nbformat": 4,
 "nbformat_minor": 2
}
